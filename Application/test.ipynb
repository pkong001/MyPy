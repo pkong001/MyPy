{
 "cells": [
  {
   "cell_type": "code",
   "execution_count": 1,
   "metadata": {},
   "outputs": [],
   "source": [
    "import os\n",
    "import tkinter as tk\n",
    "from tkinter import filedialog, messagebox\n",
    "from PyPDF2 import PdfMerger"
   ]
  },
  {
   "cell_type": "code",
   "execution_count": 2,
   "metadata": {},
   "outputs": [
    {
     "name": "stdout",
     "output_type": "stream",
     "text": [
      "Collecting pyinstaller\n",
      "  Downloading pyinstaller-6.12.0-py3-none-win_amd64.whl (1.3 MB)\n",
      "                                              0.0/1.3 MB ? eta -:--:--\n",
      "                                              0.0/1.3 MB 1.3 MB/s eta 0:00:02\n",
      "     ----                                     0.1/1.3 MB 1.7 MB/s eta 0:00:01\n",
      "     -------                                  0.2/1.3 MB 2.5 MB/s eta 0:00:01\n",
      "     ----------------                         0.6/1.3 MB 3.5 MB/s eta 0:00:01\n",
      "     -------------------------------          1.1/1.3 MB 5.2 MB/s eta 0:00:01\n",
      "     ---------------------------------------- 1.3/1.3 MB 5.4 MB/s eta 0:00:00\n",
      "Requirement already satisfied: setuptools>=42.0.0 in c:\\users\\pongpisut.kon\\appdata\\local\\programs\\python\\python311\\lib\\site-packages (from pyinstaller) (65.5.0)\n",
      "Collecting altgraph (from pyinstaller)\n",
      "  Downloading altgraph-0.17.4-py2.py3-none-any.whl (21 kB)\n",
      "Collecting pyinstaller-hooks-contrib>=2025.1 (from pyinstaller)\n",
      "  Downloading pyinstaller_hooks_contrib-2025.1-py3-none-any.whl (346 kB)\n",
      "                                              0.0/346.4 kB ? eta -:--:--\n",
      "     ------------------------------------- 346.4/346.4 kB 21.0 MB/s eta 0:00:00\n",
      "Requirement already satisfied: packaging>=22.0 in c:\\users\\pongpisut.kon\\appdata\\roaming\\python\\python311\\site-packages (from pyinstaller) (23.1)\n",
      "Collecting pefile!=2024.8.26,>=2022.5.30 (from pyinstaller)\n",
      "  Downloading pefile-2023.2.7-py3-none-any.whl (71 kB)\n",
      "                                              0.0/71.8 kB ? eta -:--:--\n",
      "     ---------------------------------------- 71.8/71.8 kB 3.8 MB/s eta 0:00:00\n",
      "Collecting pywin32-ctypes>=0.2.1 (from pyinstaller)\n",
      "  Downloading pywin32_ctypes-0.2.3-py3-none-any.whl (30 kB)\n",
      "Installing collected packages: altgraph, pywin32-ctypes, pyinstaller-hooks-contrib, pefile, pyinstaller\n",
      "Successfully installed altgraph-0.17.4 pefile-2023.2.7 pyinstaller-6.12.0 pyinstaller-hooks-contrib-2025.1 pywin32-ctypes-0.2.3\n"
     ]
    },
    {
     "name": "stderr",
     "output_type": "stream",
     "text": [
      "\n",
      "[notice] A new release of pip is available: 23.1.2 -> 25.0.1\n",
      "[notice] To update, run: python.exe -m pip install --upgrade pip\n"
     ]
    }
   ],
   "source": [
    "!pip install pyinstaller\n"
   ]
  }
 ],
 "metadata": {
  "kernelspec": {
   "display_name": "Python 3",
   "language": "python",
   "name": "python3"
  },
  "language_info": {
   "codemirror_mode": {
    "name": "ipython",
    "version": 3
   },
   "file_extension": ".py",
   "mimetype": "text/x-python",
   "name": "python",
   "nbconvert_exporter": "python",
   "pygments_lexer": "ipython3",
   "version": "3.11.4"
  }
 },
 "nbformat": 4,
 "nbformat_minor": 2
}
