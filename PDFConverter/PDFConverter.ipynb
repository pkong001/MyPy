{
 "cells": [
  {
   "cell_type": "code",
   "execution_count": 14,
   "metadata": {},
   "outputs": [
    {
     "data": {
      "text/plain": [
       "'.'"
      ]
     },
     "execution_count": 14,
     "metadata": {},
     "output_type": "execute_result"
    }
   ],
   "source": [
    "os.curdir"
   ]
  },
  {
   "cell_type": "markdown",
   "metadata": {},
   "source": [
    "## Adjust parameter here"
   ]
  },
  {
   "cell_type": "code",
   "execution_count": 13,
   "metadata": {},
   "outputs": [
    {
     "data": {
      "text/plain": [
       "'d:\\\\Men\\\\3_My_Python\\\\MyPy\\\\PEFConverter\\\\merged_document'"
      ]
     },
     "execution_count": 13,
     "metadata": {},
     "output_type": "execute_result"
    }
   ],
   "source": [
    "output_name = \"merged_document\""
   ]
  },
  {
   "cell_type": "code",
   "execution_count": 19,
   "metadata": {},
   "outputs": [
    {
     "data": {
      "text/plain": [
       "'merged_document.pdf'"
      ]
     },
     "execution_count": 19,
     "metadata": {},
     "output_type": "execute_result"
    }
   ],
   "source": [
    "import os\n",
    "from PyPDF2 import PdfMerger\n",
    "\n",
    "# Define the paths to the uploaded PDF files\n",
    "pdf_files = [i for i in os.listdir() if (\".pdf\" in i) ]\n",
    "\n",
    "# Define output file path\n",
    "merged_pdf_path = output_name + \".pdf\"\n",
    "\n",
    "# Merge PDFs\n",
    "merger = PdfMerger()\n",
    "for pdf in pdf_files:\n",
    "    merger.append(pdf)\n",
    "\n",
    "# Save the merged PDF\n",
    "merger.write(merged_pdf_path)\n",
    "merger.close()\n",
    "\n",
    "# Provide download link\n",
    "merged_pdf_path"
   ]
  }
 ],
 "metadata": {
  "kernelspec": {
   "display_name": "Python 3",
   "language": "python",
   "name": "python3"
  },
  "language_info": {
   "codemirror_mode": {
    "name": "ipython",
    "version": 3
   },
   "file_extension": ".py",
   "mimetype": "text/x-python",
   "name": "python",
   "nbconvert_exporter": "python",
   "pygments_lexer": "ipython3",
   "version": "3.11.4"
  }
 },
 "nbformat": 4,
 "nbformat_minor": 2
}
