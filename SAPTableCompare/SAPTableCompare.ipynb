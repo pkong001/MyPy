{
 "cells": [
  {
   "cell_type": "code",
   "execution_count": 128,
   "metadata": {
    "vscode": {
     "languageId": "powershell"
    }
   },
   "outputs": [],
   "source": [
    "import pandas as pd\n",
    "import os\n",
    "import numpy as np\n",
    "\n",
    "#### DEFINE\n",
    "output_name = \"0MATERIAL_ATTR\"\n"
   ]
  },
  {
   "cell_type": "code",
   "execution_count": 129,
   "metadata": {
    "vscode": {
     "languageId": "powershell"
    }
   },
   "outputs": [
    {
     "name": "stdout",
     "output_type": "stream",
     "text": [
      "['0AA_ACCDET_TEXT.xlsx', '0AA_RECSTAT_TEXT.xlsx', '0ASSET_AFAB_ATTR.xlsx', '0ASSET_ATTR_TEXT.xlsx', '0BPARTNER_ATTR.xlsx', '0BPARTNER_TEXT.xlsx', '0BP_GRPTYPE_TEXT.png', '0BP_GRP_ATTR.xlsx', '0BP_GRP_HIER.xlsx', '0BP_GRP_TEXT.xlsx', '0CUSTOMER_ATTR.xlsx', '0PLANT_ATTR.xlsx', '2LIS_13_VDITM.xlsx', 'B2D.txt', 'B2D.xlsx', 'B2D_0MATERIAL_ATTR.txt', 'B4D.txt', 'B4D.xlsx', 'B4P.txt', 'B4P_0MATERIAL_ATTR.txt', 'CHECKCCHEC KCCCHEKCHEKCHEKCHE3KCHEEE0C=BHHCHECK.xlsx', 'DefaultOutputName.xlsx', 'fucking_output.xlsx', 'ignore', 'SAPTableCompare.ipynb', 'SAPTableCompare.py', 'test.xlsx', 'Test2.xlsx', 'tt.txt', '~$B4D.xlsx']\n"
     ]
    }
   ],
   "source": [
    "with open(\"B2D.txt\", \"r\", encoding=\"utf-8\") as file:\n",
    "    ecc_text = file.read()\n",
    "with open(\"B4P.txt\", \"r\", encoding=\"utf-8\") as file:\n",
    "    hana_text = file.read()\n",
    "\n",
    "print(os.listdir())"
   ]
  },
  {
   "cell_type": "code",
   "execution_count": 130,
   "metadata": {
    "vscode": {
     "languageId": "powershell"
    }
   },
   "outputs": [],
   "source": [
    "def export_df(text):\n",
    "        ls = [i.strip() for i in text.split(\"\\n\") \n",
    "                if \n",
    "                        (\"Append structure \" not in i) \n",
    "                        and (\"Include structure \") not in i \n",
    "                        and (len(i) > 1)\n",
    "                ]\n",
    "        ls_ls = [i.split(\" \") for i in ls]\n",
    "\n",
    "        #####Define List\n",
    "        set1 = set([i[-2] for i in ls_ls]) # set2 =  set([i.split(\" \")[-3] for i in ls])\n",
    "        ls1 = [i for i in list(set1) if any(j.isalpha() for j in i)]\n",
    "        ls1.extend([\"QUAN\", \"DEC\"])\n",
    "        type_ls = list(set(ls1)) \n",
    "\n",
    "        ls_name = [ i[0] for i in ls_ls]\n",
    "\n",
    "        ls_type = []\n",
    "        for i in ls_ls:\n",
    "                if i[-2] in type_ls:\n",
    "                        ls_type.append(f'{i[-2]} {i[-1]}')\n",
    "                else:\n",
    "                        ls_type.append(f'{i[-3]} {i[-2]},{i[-1]}')\n",
    "\n",
    "\n",
    "        ls_combine = []\n",
    "        for i in range(0,len(ls_ls)):\n",
    "                ls_combine.append(f'{i} ' + ls_name[i]+\" \"+ls_type[i])\n",
    "        ls_combine_ls = [i.split(\" \") for i in ls_combine]\n",
    "        \n",
    "        return ls_combine_ls"
   ]
  },
  {
   "cell_type": "code",
   "execution_count": 75,
   "metadata": {
    "vscode": {
     "languageId": "powershell"
    }
   },
   "outputs": [],
   "source": [
    "#### Read files and apply def\n",
    "hana = export_df(hana_text)\n",
    "ecc = export_df(ecc_text)\n",
    "\n",
    "# Prepare Dataframe\n",
    "df_ecc = pd.DataFrame(data=ecc,columns=[\"e_index\",\"e_name\",\"e_type\",\"e_lgt\"])\n",
    "df_hana = pd.DataFrame(data=hana,columns=[\"h_index\",\"h_name\",\"h_type\",\"h_lgt\"])\n"
   ]
  },
  {
   "cell_type": "code",
   "execution_count": 76,
   "metadata": {
    "vscode": {
     "languageId": "powershell"
    }
   },
   "outputs": [],
   "source": [
    "#### Check Field Mismatch\n",
    "ecc_name = set([i[1] for i in ecc])\n",
    "hana_name = set([i[1] for i in hana])\n",
    "\n",
    "ecc_u = []\n",
    "hana_u = []\n",
    "if ecc_name == hana_name:\n",
    "    print(\"Both DataFrames have the same columns.\")\n",
    "else:\n",
    "    for i in ecc_name - hana_name:\n",
    "        ecc_u.append(i)\n",
    "    for i in hana_name - ecc_name:\n",
    "        hana_u.append(i)\n",
    "\n",
    "# Make same lenght\n",
    "max_len = max(len(ecc_u), len(hana_u))\n",
    "ecc_u += [\"\"] * (max_len - len(ecc_u))  # Pad with empty string\n",
    "hana_u += [\"\"] * (max_len - len(hana_u))\n",
    "\n",
    "# Prepare Dataframe\n",
    "df_mismatched_fields = pd.DataFrame({\"Only in HANA\": hana_u,\"Only in ECC\": ecc_u})\n",
    "\n",
    "# print(df_mismatched_fields.to_string(index=False))  # Properly formatted DataFrame output"
   ]
  },
  {
   "cell_type": "code",
   "execution_count": 77,
   "metadata": {
    "vscode": {
     "languageId": "powershell"
    }
   },
   "outputs": [],
   "source": [
    "#### Check Type Mismatch\n",
    "ecc_dict = {row[1]: row for row in ecc}  # {C1: [...], C3: [...]}\n",
    "hana_dict = {row[1]: row for row in hana}  # {C1: [...], C3: [...]}\n",
    "matching_keys = set(ecc_dict.keys()) & set(hana_dict.keys())\n",
    "\n",
    "data = []\n",
    "for i in matching_keys:\n",
    "    e_row = ecc_dict[i]\n",
    "    h_row = hana_dict[i]\n",
    "    if (e_row[3] != h_row[3]) or (e_row[2] != h_row[2]):\n",
    "        data.append({\n",
    "            \"e_name\": e_row[1], \"e_type\": e_row[2], \"e_lgt\": e_row[3],\n",
    "            \"trans\": \">>>\",\n",
    "            \"h_name\": h_row[1], \"h_type\": h_row[2], \"h_lgt\": h_row[3]\n",
    "        })\n",
    "\n",
    "# Convert to DataFrame\n",
    "df_mismatched_types = pd.DataFrame(data)\n",
    "\n",
    "# print(df.to_string(index=False))\n"
   ]
  },
  {
   "cell_type": "code",
   "execution_count": 81,
   "metadata": {
    "vscode": {
     "languageId": "powershell"
    }
   },
   "outputs": [
    {
     "name": "stdout",
     "output_type": "stream",
     "text": [
      "Excel file '0MATERIAL_ATTR.xlsx'.\n"
     ]
    }
   ],
   "source": [
    "# Define Excel file path\n",
    "excel_path = f\"{output_name}.xlsx\"\n",
    "\n",
    "# Write to Excel with multiple sheets\n",
    "with pd.ExcelWriter(excel_path, engine=\"xlsxwriter\") as writer:\n",
    "    df_ecc.to_excel(writer, sheet_name=\"ecc\", index=False)\n",
    "    df_hana.to_excel(writer, sheet_name=\"hana\", index=False)\n",
    "    df_mismatched_types.to_excel(writer, sheet_name=\"mismatched_types\", index=False)\n",
    "    df_mismatched_fields.to_excel(writer, sheet_name=\"mismatched_fields\", index=False)\n",
    "\n",
    "\n",
    "print(f\"Excel file '{excel_path}'.\")\n"
   ]
  },
  {
   "cell_type": "markdown",
   "metadata": {},
   "source": [
    "#The below is the Drafted version for SE15 export .xlsx, however, I found out later that the export version was missing some fields, so...... let's go back and use the first version shall we???"
   ]
  },
  {
   "cell_type": "code",
   "execution_count": 163,
   "metadata": {
    "vscode": {
     "languageId": "powershell"
    }
   },
   "outputs": [
    {
     "ename": "PermissionError",
     "evalue": "[Errno 13] Permission denied: 'tttt.xlsx'",
     "output_type": "error",
     "traceback": [
      "\u001b[1;31m---------------------------------------------------------------------------\u001b[0m",
      "\u001b[1;31mPermissionError\u001b[0m                           Traceback (most recent call last)",
      "Cell \u001b[1;32mIn[163], line 57\u001b[0m\n\u001b[0;32m     53\u001b[0m ecc \u001b[38;5;241m=\u001b[39m export_df(df_ecc)\n\u001b[0;32m     55\u001b[0m df_hana \u001b[38;5;241m=\u001b[39m pd\u001b[38;5;241m.\u001b[39mDataFrame(data\u001b[38;5;241m=\u001b[39mhana)\n\u001b[1;32m---> 57\u001b[0m \u001b[38;5;28;01mwith\u001b[39;00m \u001b[43mpd\u001b[49m\u001b[38;5;241;43m.\u001b[39;49m\u001b[43mExcelWriter\u001b[49m\u001b[43m(\u001b[49m\u001b[38;5;124;43m\"\u001b[39;49m\u001b[38;5;124;43mtttt.xlsx\u001b[39;49m\u001b[38;5;124;43m\"\u001b[39;49m\u001b[43m,\u001b[49m\u001b[43m \u001b[49m\u001b[43mengine\u001b[49m\u001b[38;5;241;43m=\u001b[39;49m\u001b[38;5;124;43m\"\u001b[39;49m\u001b[38;5;124;43mxlsxwriter\u001b[39;49m\u001b[38;5;124;43m\"\u001b[39;49m\u001b[43m)\u001b[49m \u001b[38;5;28;01mas\u001b[39;00m writer:\n\u001b[0;32m     58\u001b[0m     df_hana\u001b[38;5;241m.\u001b[39mto_excel(writer, sheet_name\u001b[38;5;241m=\u001b[39m\u001b[38;5;124m\"\u001b[39m\u001b[38;5;124mttt\u001b[39m\u001b[38;5;124m\"\u001b[39m, index\u001b[38;5;241m=\u001b[39m\u001b[38;5;28;01mFalse\u001b[39;00m)\n",
      "File \u001b[1;32mc:\\Users\\pongpisut.kon\\AppData\\Local\\Programs\\Python\\Python311\\Lib\\site-packages\\pandas\\io\\excel\\_xlsxwriter.py:199\u001b[0m, in \u001b[0;36mXlsxWriter.__init__\u001b[1;34m(self, path, engine, date_format, datetime_format, mode, storage_options, if_sheet_exists, engine_kwargs, **kwargs)\u001b[0m\n\u001b[0;32m    196\u001b[0m \u001b[38;5;28;01mif\u001b[39;00m mode \u001b[38;5;241m==\u001b[39m \u001b[38;5;124m\"\u001b[39m\u001b[38;5;124ma\u001b[39m\u001b[38;5;124m\"\u001b[39m:\n\u001b[0;32m    197\u001b[0m     \u001b[38;5;28;01mraise\u001b[39;00m \u001b[38;5;167;01mValueError\u001b[39;00m(\u001b[38;5;124m\"\u001b[39m\u001b[38;5;124mAppend mode is not supported with xlsxwriter!\u001b[39m\u001b[38;5;124m\"\u001b[39m)\n\u001b[1;32m--> 199\u001b[0m \u001b[38;5;28;43msuper\u001b[39;49m\u001b[43m(\u001b[49m\u001b[43m)\u001b[49m\u001b[38;5;241;43m.\u001b[39;49m\u001b[38;5;21;43m__init__\u001b[39;49m\u001b[43m(\u001b[49m\n\u001b[0;32m    200\u001b[0m \u001b[43m    \u001b[49m\u001b[43mpath\u001b[49m\u001b[43m,\u001b[49m\n\u001b[0;32m    201\u001b[0m \u001b[43m    \u001b[49m\u001b[43mengine\u001b[49m\u001b[38;5;241;43m=\u001b[39;49m\u001b[43mengine\u001b[49m\u001b[43m,\u001b[49m\n\u001b[0;32m    202\u001b[0m \u001b[43m    \u001b[49m\u001b[43mdate_format\u001b[49m\u001b[38;5;241;43m=\u001b[39;49m\u001b[43mdate_format\u001b[49m\u001b[43m,\u001b[49m\n\u001b[0;32m    203\u001b[0m \u001b[43m    \u001b[49m\u001b[43mdatetime_format\u001b[49m\u001b[38;5;241;43m=\u001b[39;49m\u001b[43mdatetime_format\u001b[49m\u001b[43m,\u001b[49m\n\u001b[0;32m    204\u001b[0m \u001b[43m    \u001b[49m\u001b[43mmode\u001b[49m\u001b[38;5;241;43m=\u001b[39;49m\u001b[43mmode\u001b[49m\u001b[43m,\u001b[49m\n\u001b[0;32m    205\u001b[0m \u001b[43m    \u001b[49m\u001b[43mstorage_options\u001b[49m\u001b[38;5;241;43m=\u001b[39;49m\u001b[43mstorage_options\u001b[49m\u001b[43m,\u001b[49m\n\u001b[0;32m    206\u001b[0m \u001b[43m    \u001b[49m\u001b[43mif_sheet_exists\u001b[49m\u001b[38;5;241;43m=\u001b[39;49m\u001b[43mif_sheet_exists\u001b[49m\u001b[43m,\u001b[49m\n\u001b[0;32m    207\u001b[0m \u001b[43m    \u001b[49m\u001b[43mengine_kwargs\u001b[49m\u001b[38;5;241;43m=\u001b[39;49m\u001b[43mengine_kwargs\u001b[49m\u001b[43m,\u001b[49m\n\u001b[0;32m    208\u001b[0m \u001b[43m\u001b[49m\u001b[43m)\u001b[49m\n\u001b[0;32m    210\u001b[0m \u001b[38;5;28mself\u001b[39m\u001b[38;5;241m.\u001b[39m_book \u001b[38;5;241m=\u001b[39m Workbook(\u001b[38;5;28mself\u001b[39m\u001b[38;5;241m.\u001b[39m_handles\u001b[38;5;241m.\u001b[39mhandle, \u001b[38;5;241m*\u001b[39m\u001b[38;5;241m*\u001b[39mengine_kwargs)\n",
      "File \u001b[1;32mc:\\Users\\pongpisut.kon\\AppData\\Local\\Programs\\Python\\Python311\\Lib\\site-packages\\pandas\\io\\excel\\_base.py:1219\u001b[0m, in \u001b[0;36mExcelWriter.__init__\u001b[1;34m(self, path, engine, date_format, datetime_format, mode, storage_options, if_sheet_exists, engine_kwargs)\u001b[0m\n\u001b[0;32m   1215\u001b[0m \u001b[38;5;28mself\u001b[39m\u001b[38;5;241m.\u001b[39m_handles \u001b[38;5;241m=\u001b[39m IOHandles(\n\u001b[0;32m   1216\u001b[0m     cast(IO[\u001b[38;5;28mbytes\u001b[39m], path), compression\u001b[38;5;241m=\u001b[39m{\u001b[38;5;124m\"\u001b[39m\u001b[38;5;124mcompression\u001b[39m\u001b[38;5;124m\"\u001b[39m: \u001b[38;5;28;01mNone\u001b[39;00m}\n\u001b[0;32m   1217\u001b[0m )\n\u001b[0;32m   1218\u001b[0m \u001b[38;5;28;01mif\u001b[39;00m \u001b[38;5;129;01mnot\u001b[39;00m \u001b[38;5;28misinstance\u001b[39m(path, ExcelWriter):\n\u001b[1;32m-> 1219\u001b[0m     \u001b[38;5;28mself\u001b[39m\u001b[38;5;241m.\u001b[39m_handles \u001b[38;5;241m=\u001b[39m \u001b[43mget_handle\u001b[49m\u001b[43m(\u001b[49m\n\u001b[0;32m   1220\u001b[0m \u001b[43m        \u001b[49m\u001b[43mpath\u001b[49m\u001b[43m,\u001b[49m\u001b[43m \u001b[49m\u001b[43mmode\u001b[49m\u001b[43m,\u001b[49m\u001b[43m \u001b[49m\u001b[43mstorage_options\u001b[49m\u001b[38;5;241;43m=\u001b[39;49m\u001b[43mstorage_options\u001b[49m\u001b[43m,\u001b[49m\u001b[43m \u001b[49m\u001b[43mis_text\u001b[49m\u001b[38;5;241;43m=\u001b[39;49m\u001b[38;5;28;43;01mFalse\u001b[39;49;00m\n\u001b[0;32m   1221\u001b[0m \u001b[43m    \u001b[49m\u001b[43m)\u001b[49m\n\u001b[0;32m   1222\u001b[0m \u001b[38;5;28mself\u001b[39m\u001b[38;5;241m.\u001b[39m_cur_sheet \u001b[38;5;241m=\u001b[39m \u001b[38;5;28;01mNone\u001b[39;00m\n\u001b[0;32m   1224\u001b[0m \u001b[38;5;28;01mif\u001b[39;00m date_format \u001b[38;5;129;01mis\u001b[39;00m \u001b[38;5;28;01mNone\u001b[39;00m:\n",
      "File \u001b[1;32mc:\\Users\\pongpisut.kon\\AppData\\Local\\Programs\\Python\\Python311\\Lib\\site-packages\\pandas\\io\\common.py:868\u001b[0m, in \u001b[0;36mget_handle\u001b[1;34m(path_or_buf, mode, encoding, compression, memory_map, is_text, errors, storage_options)\u001b[0m\n\u001b[0;32m    859\u001b[0m         handle \u001b[38;5;241m=\u001b[39m \u001b[38;5;28mopen\u001b[39m(\n\u001b[0;32m    860\u001b[0m             handle,\n\u001b[0;32m    861\u001b[0m             ioargs\u001b[38;5;241m.\u001b[39mmode,\n\u001b[1;32m   (...)\u001b[0m\n\u001b[0;32m    864\u001b[0m             newline\u001b[38;5;241m=\u001b[39m\u001b[38;5;124m\"\u001b[39m\u001b[38;5;124m\"\u001b[39m,\n\u001b[0;32m    865\u001b[0m         )\n\u001b[0;32m    866\u001b[0m     \u001b[38;5;28;01melse\u001b[39;00m:\n\u001b[0;32m    867\u001b[0m         \u001b[38;5;66;03m# Binary mode\u001b[39;00m\n\u001b[1;32m--> 868\u001b[0m         handle \u001b[38;5;241m=\u001b[39m \u001b[38;5;28mopen\u001b[39m(handle, ioargs\u001b[38;5;241m.\u001b[39mmode)\n\u001b[0;32m    869\u001b[0m     handles\u001b[38;5;241m.\u001b[39mappend(handle)\n\u001b[0;32m    871\u001b[0m \u001b[38;5;66;03m# Convert BytesIO or file objects passed with an encoding\u001b[39;00m\n",
      "\u001b[1;31mPermissionError\u001b[0m: [Errno 13] Permission denied: 'tttt.xlsx'"
     ]
    }
   ],
   "source": [
    "import pandas as pd\n",
    "import numpy as np\n",
    "\n",
    "# Read Excel file and skip the first 6 rows\n",
    "df_hana = pd.read_excel(\"B4D.xlsx\", skiprows=2)\n",
    "# Read Excel file and skip the first 6 rows\n",
    "df_ecc = pd.read_excel(\"B2D.xlsx\", skiprows=2)\n",
    "\n",
    "def export_df(df):\n",
    "    # Rename\n",
    "    c1 = df.columns[-1]\n",
    "    df_rename = df.rename(columns={c1: \"decimal\"})\n",
    "\n",
    "    # Select\n",
    "    columns_to_select = [\"Structure Field\", \"Data Type\", \"OutLeng\", \"decimal\",\"Length\"]\n",
    "    df_selected = df_rename[columns_to_select].copy()  # Ensure a copy to avoid warnings\n",
    "\n",
    "    # Filter for test\n",
    "    # df_selected = df_selected[df_selected[\"decimal\"].notna()]\n",
    "\n",
    "    # Transformation\n",
    "    df_selected = df_selected.fillna(\"\").astype(str)\n",
    "    df_selected[\"OutLeng\"] = df_selected[\"OutLeng\"].astype(str).str.replace(r\"\\.0$\", \"\", regex=True)\n",
    "    df_selected[\"decimal\"] = df_selected[\"decimal\"].astype(str).str.replace(r\"\\.0$\", \"\", regex=True)\n",
    "    df_selected[\"Length\"] = df_selected[\"Length\"].astype(str).str.replace(r\"\\.0$\", \"\", regex=True)\n",
    "    df_selected[\"digit\"] = np.where(df_selected[\"OutLeng\"].str.len() < 1, df_selected[\"Length\"], df_selected[\"OutLeng\"])\n",
    "    df_selected.insert(0, \"Index\", range(1, len(df_selected) + 1)) # Add index\n",
    "    df_selected[\"text_row\"] = df_selected[\"Structure Field\"] + \" \" + df_selected[\"Data Type\"] + \" \" + df_selected[\"Length\"] + \",\" + df_selected[\"decimal\"]\n",
    "    df_selected = df_selected.fillna(\"\").astype(str)\n",
    "    df_selected[\"text_row\"] = df_selected[\"text_row\"].str.split().str.join(\" \") #Splits the text into a list of words, automatically removing extra spaces.\n",
    "    df_selected = df_selected[df_selected[\"Index\"].astype(int) > 2]\n",
    "    df_selected = df_selected[[\"text_row\"]]\n",
    "    df_selected.insert(0, \"Index\", range(1, len(df_selected) + 1))\n",
    "    df_selected[\"text_row\"] = df_selected[\"Index\"].astype(str) + \" \" + df_selected[\"text_row\"]\n",
    "\n",
    "\n",
    "\n",
    "    # Prepare output\n",
    "    t_text = \"\\n\".join(df_selected[\"text_row\"])\n",
    "    text_ls = t_text.split(\"\\n\")\n",
    "    ls = []\n",
    "    for i in text_ls:\n",
    "        if i[-1] == \",\":\n",
    "            ls.append(i.replace(\",\",\"\"))\n",
    "        else:\n",
    "            ls.append(i)\n",
    "    \n",
    "    ls = [i.split(\" \") for i in ls]\n",
    "    return ls\n",
    "\n",
    "############### Read files and apply def ###############\n",
    "hana = export_df(df_hana)\n",
    "ecc = export_df(df_ecc)\n",
    "\n",
    "df_hana = pd.DataFrame(data=hana)\n",
    "\n",
    "with pd.ExcelWriter(\"tttt.xlsx\", engine=\"xlsxwriter\") as writer:\n",
    "    df_hana.to_excel(writer, sheet_name=\"ttt\", index=False)\n",
    "\n",
    "\n"
   ]
  }
 ],
 "metadata": {
  "kernelspec": {
   "display_name": "Python 3",
   "language": "python",
   "name": "python3"
  },
  "language_info": {
   "codemirror_mode": {
    "name": "ipython",
    "version": 3
   },
   "file_extension": ".py",
   "mimetype": "text/x-python",
   "name": "python",
   "nbconvert_exporter": "python",
   "pygments_lexer": "ipython3",
   "version": "3.11.4"
  }
 },
 "nbformat": 4,
 "nbformat_minor": 2
}
