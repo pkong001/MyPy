{
 "cells": [
  {
   "cell_type": "code",
   "execution_count": 0,
   "metadata": {
    "application/vnd.databricks.v1+cell": {
     "cellMetadata": {
      "byteLimit": 2048000,
      "rowLimit": 10000
     },
     "inputWidgets": {},
     "nuid": "f83a8070-c8d0-4429-bec7-311cf0af7390",
     "showTitle": false,
     "tableResultSettingsMap": {},
     "title": ""
    }
   },
   "outputs": [],
   "source": [
    "from pyspark.sql.functions import *"
   ]
  },
  {
   "cell_type": "markdown",
   "metadata": {
    "application/vnd.databricks.v1+cell": {
     "cellMetadata": {
      "byteLimit": 2048000,
      "rowLimit": 10000
     },
     "inputWidgets": {},
     "nuid": "fc41bfd8-4806-4749-8777-ac2089ca43f0",
     "showTitle": false,
     "tableResultSettingsMap": {},
     "title": ""
    }
   },
   "source": [
    "view_names = [\n",
    "    \"vw_dm_DimBrand\",\n",
    "    \"vw_dm_DimClassOfTrade\",\n",
    "    \"vw_dm_DimClassOfTradeCustomer\",\n",
    "    \"vw_dm_DimCompany\",\n",
    "    \"vw_dm_DimControllingArea\",\n",
    "    \"vw_dm_DimCurrency\",\n",
    "    \"vw_dm_DimCustomer\",\n",
    "    \"vw_dm_DimCustomerGroup\",\n",
    "    \"vw_dm_DimCustomerGroup5\",\n",
    "    \"vw_dm_DimDistributionChannel\",\n",
    "    \"vw_dm_DimDivision\",\n",
    "    \"vw_dm_DimMainProduct\",\n",
    "    \"vw_dm_DimMaterial\",\n",
    "    \"vw_dm_DimProductBrand\",\n",
    "    \"vw_dm_DimProductBrandGroup\",\n",
    "    \"vw_dm_DimProductCategory\",\n",
    "    \"vw_dm_DimProductHierarchy\",\n",
    "    \"vw_dm_DimProfitCategory\",\n",
    "    \"vw_dm_DimProfitMap\",\n",
    "    \"vw_dm_DimSalesGroup\",\n",
    "    \"vw_dm_DimSalesman\",\n",
    "    \"vw_dm_DimSalesOffice\",\n",
    "    \"vw_dm_DimSalesOrganization\",\n",
    "    \"vw_dm_DimTradingPartner\"\n",
    "]\n"
   ]
  },
  {
   "cell_type": "code",
   "execution_count": 0,
   "metadata": {
    "application/vnd.databricks.v1+cell": {
     "cellMetadata": {
      "byteLimit": 2048000,
      "rowLimit": 10000
     },
     "inputWidgets": {},
     "nuid": "6e8cd5ec-6df3-4527-a323-f49c1c5f55b2",
     "showTitle": false,
     "tableResultSettingsMap": {},
     "title": ""
    }
   },
   "outputs": [
    {
     "output_type": "stream",
     "name": "stdout",
     "output_type": "stream",
     "text": [
      "Out[2]: ['vw_dm_DimBrand.txt',\n 'vw_dm_DimClassOfTrade.txt',\n 'vw_dm_DimClassOfTradeCustomer.txt',\n 'vw_dm_DimClassOfTradeCustomerGroup/',\n 'vw_dm_DimCompany.txt',\n 'vw_dm_DimControllingArea.txt',\n 'vw_dm_DimCurrency.txt',\n 'vw_dm_DimCustomer.txt',\n 'vw_dm_DimCustomerGroup.txt',\n 'vw_dm_DimCustomerGroup5.txt',\n 'vw_dm_DimCustomerHierarchy/',\n 'vw_dm_DimDistributionChannel.txt',\n 'vw_dm_DimDivision.txt',\n 'vw_dm_DimMainProduct.txt',\n 'vw_dm_DimMaterial.txt',\n 'vw_dm_DimProductBrand.txt',\n 'vw_dm_DimProductBrandGroup.txt',\n 'vw_dm_DimProductCategory.txt',\n 'vw_dm_DimProductHierarchy.txt',\n 'vw_dm_DimProfitCategory.txt',\n 'vw_dm_DimProfitMap.txt',\n 'vw_dm_DimSalesGroup.txt',\n 'vw_dm_DimSalesOffice.txt',\n 'vw_dm_DimSalesOfficeGroup/',\n 'vw_dm_DimSalesOrganization.txt',\n 'vw_dm_DimSalesman.txt',\n 'vw_dm_DimTradingPartner.txt']"
     ]
    }
   ],
   "source": [
    "path_base = '/mnt/dw01-source/Dim'\n",
    "[i.name for i in dbutils.fs.ls(path_base)]"
   ]
  },
  {
   "cell_type": "code",
   "execution_count": 0,
   "metadata": {
    "application/vnd.databricks.v1+cell": {
     "cellMetadata": {
      "byteLimit": 2048000,
      "rowLimit": 10000
     },
     "inputWidgets": {},
     "nuid": "2b5e0b79-0899-43cc-ae2e-845a4cb760af",
     "showTitle": false,
     "tableResultSettingsMap": {},
     "title": ""
    }
   },
   "outputs": [
    {
     "output_type": "stream",
     "name": "stdout",
     "output_type": "stream",
     "text": [
      "Out[89]: 27"
     ]
    }
   ],
   "source": [
    "len(dbutils.fs.ls(path_base))"
   ]
  },
  {
   "cell_type": "markdown",
   "metadata": {
    "application/vnd.databricks.v1+cell": {
     "cellMetadata": {},
     "inputWidgets": {},
     "nuid": "38abefb0-08f8-4ed9-bee4-435b43e3940d",
     "showTitle": false,
     "tableResultSettingsMap": {},
     "title": ""
    }
   },
   "source": [
    "\n",
    "#### Here, the data is extracted from the source and stored in Bronze as a staging table. The source might be on-premise or located on another server, potentially far from Databricks in terms of network distance and latency. To address this, we incrementally extract the data into Bronze as a staging area, waiting for transformation.\n",
    "\n",
    "#### This process is often performed on non-native cloud platforms or third-party software, which may present challenges in processing or accessing the data.\n"
   ]
  },
  {
   "cell_type": "code",
   "execution_count": 0,
   "metadata": {
    "application/vnd.databricks.v1+cell": {
     "cellMetadata": {
      "byteLimit": 2048000,
      "rowLimit": 10000
     },
     "inputWidgets": {},
     "nuid": "61562c7b-3c6e-4e0a-86d5-a155683d059a",
     "showTitle": true,
     "tableResultSettingsMap": {},
     "title": "Check  for table's name"
    }
   },
   "outputs": [
    {
     "output_type": "stream",
     "name": "stdout",
     "output_type": "stream",
     "text": [
      "Process: 0\nProcess: 1\nProcess: 2\nProcess: 3\nProcess: 4\nProcess: 5\nProcess: 6\nProcess: 7\nProcess: 8\nProcess: 9\nProcess: 10\nProcess: 11\nProcess: 12\nProcess: 13\nProcess: 14\nProcess: 15\nProcess: 16\nProcess: 17\nProcess: 18\nProcess: 19\nProcess: 20\nProcess: 21\nProcess: 22\nProcess: 23\nProcess: 24\nProcess: 25\nProcess: 26\n['dbfs:/mnt/dw01-source/Dim/vw_dm_DimBrand.txt', 'dbfs:/mnt/dw01-source/Dim/vw_dm_DimClassOfTrade.txt', 'dbfs:/mnt/dw01-source/Dim/vw_dm_DimClassOfTradeCustomer.txt', 'dbfs:/mnt/dw01-source/Dim/vw_dm_DimCompany.txt', 'dbfs:/mnt/dw01-source/Dim/vw_dm_DimControllingArea.txt', 'dbfs:/mnt/dw01-source/Dim/vw_dm_DimCurrency.txt', 'dbfs:/mnt/dw01-source/Dim/vw_dm_DimCustomer.txt', 'dbfs:/mnt/dw01-source/Dim/vw_dm_DimCustomerGroup.txt', 'dbfs:/mnt/dw01-source/Dim/vw_dm_DimCustomerGroup5.txt', 'dbfs:/mnt/dw01-source/Dim/vw_dm_DimDistributionChannel.txt', 'dbfs:/mnt/dw01-source/Dim/vw_dm_DimDivision.txt', 'dbfs:/mnt/dw01-source/Dim/vw_dm_DimMainProduct.txt', 'dbfs:/mnt/dw01-source/Dim/vw_dm_DimMaterial.txt', 'dbfs:/mnt/dw01-source/Dim/vw_dm_DimProductBrand.txt', 'dbfs:/mnt/dw01-source/Dim/vw_dm_DimProductBrandGroup.txt', 'dbfs:/mnt/dw01-source/Dim/vw_dm_DimProductCategory.txt', 'dbfs:/mnt/dw01-source/Dim/vw_dm_DimProductHierarchy.txt', 'dbfs:/mnt/dw01-source/Dim/vw_dm_DimProfitCategory.txt', 'dbfs:/mnt/dw01-source/Dim/vw_dm_DimProfitMap.txt', 'dbfs:/mnt/dw01-source/Dim/vw_dm_DimSalesGroup.txt', 'dbfs:/mnt/dw01-source/Dim/vw_dm_DimSalesOffice.txt', 'dbfs:/mnt/dw01-source/Dim/vw_dm_DimSalesOrganization.txt', 'dbfs:/mnt/dw01-source/Dim/vw_dm_DimSalesman.txt', 'dbfs:/mnt/dw01-source/Dim/vw_dm_DimTradingPartner.txt']\n"
     ]
    }
   ],
   "source": [
    "path_source = []\n",
    "for i in range(27):\n",
    "    print(f'Process: {i}')\n",
    "    if dbutils.fs.ls(path_base)[i].path[-3:] == 'txt': #Excluded some table(as folder) and other that is not required.\n",
    "        path_source.append(dbutils.fs.ls(path_base)[i].path)\n",
    "print(path_source)"
   ]
  },
  {
   "cell_type": "code",
   "execution_count": 0,
   "metadata": {
    "application/vnd.databricks.v1+cell": {
     "cellMetadata": {
      "byteLimit": 2048000,
      "rowLimit": 10000
     },
     "inputWidgets": {},
     "nuid": "f16d090a-f88c-4581-afc6-6542cc938cf6",
     "showTitle": false,
     "tableResultSettingsMap": {},
     "title": ""
    }
   },
   "outputs": [],
   "source": [
    "#Variable\n",
    "dbutils.widgets.text(\"extract_date_fix\",\"\")\n",
    "extract_date_fix = dbutils.widgets.get(\"extract_date_fix\")\n",
    "dbutils.widgets.text(\"extract_criteria\",\"\")\n",
    "extract_criteria = dbutils.widgets.get(\"extract_criteria\")\n",
    "\n",
    "#Constants\n",
    "extract_date_inx = date_sub(current_date(), 5)\n",
    "\n",
    "#Variable (Conditioned)\n",
    "if extract_criteria == 'delta':\n",
    "    extract_date = extract_date_inx\n",
    "elif extract_criteria == 'full':\n",
    "    extract_date = extract_date_fix\n",
    "else:\n",
    "    extract_date = extract_date_inx"
   ]
  },
  {
   "cell_type": "code",
   "execution_count": 0,
   "metadata": {
    "application/vnd.databricks.v1+cell": {
     "cellMetadata": {
      "byteLimit": 2048000,
      "rowLimit": 10000
     },
     "inputWidgets": {},
     "nuid": "e8eb42b7-64bc-4302-8da8-1ad7bc5fd6e4",
     "showTitle": false,
     "tableResultSettingsMap": {},
     "title": ""
    }
   },
   "outputs": [
    {
     "output_type": "stream",
     "name": "stdout",
     "output_type": "stream",
     "text": [
      "cleaned_path : /mnt/dw01-source/Dim/vw_dm_DimBrand.txt\nReading from: /mnt/dw01-source/Dim/vw_dm_DimBrand.txt\nSaving to: /mnt/dw01bronze/Dim/vw_dm_DimBrand\n+---------+----------------+--------------------+------+\n|BrandCode|BrandDescription|        ModifiedDate|Source|\n+---------+----------------+--------------------+------+\n|     0000|          Others|2024-12-11 09:43:...|   SAP|\n|     0001|    BJC Services|2024-12-11 09:43:...|   SAP|\n|     0002| BJC Consumables|2024-12-11 09:43:...|   SAP|\n|     0003|     BJC Premium|2024-12-11 09:43:...|   SAP|\n|     0004|BJC Non valuated|2024-12-11 09:43:...|   SAP|\n+---------+----------------+--------------------+------+\n\ncleaned_path : /mnt/dw01-source/Dim/vw_dm_DimClassOfTrade.txt\nReading from: /mnt/dw01-source/Dim/vw_dm_DimClassOfTrade.txt\nSaving to: /mnt/dw01bronze/Dim/vw_dm_DimClassOfTrade\n+----------------+--------------------+--------------------+------+\n|ClassofTradeCode|    ClassofTradeName|        ModifiedDate|Source|\n+----------------+--------------------+--------------------+------+\n|             999| Dummy (Not-defined)|2024-12-11 09:43:...|   SAP|\n|             AGF|           Agfa Labs|2024-12-11 09:43:...|   SAP|\n|             AGT|               Agent|2024-12-11 09:43:...|   SAP|\n|             ANS|Anesthetic (แผนกวิสั|2024-12-11 09:43:...|   SAP|\n|             ASS|          Associates|2024-12-11 09:43:...|   SAP|\n+----------------+--------------------+--------------------+------+\n\ncleaned_path : /mnt/dw01-source/Dim/vw_dm_DimClassOfTradeCustomer.txt\nReading from: /mnt/dw01-source/Dim/vw_dm_DimClassOfTradeCustomer.txt\nSaving to: /mnt/dw01bronze/Dim/vw_dm_DimClassOfTradeCustomer\n+------------+------------+-----------------------+------------+------------------------+------------------------+------+--------------------+\n|CustomerCode|SalesOrgCode|DistributionChannelCode|DivisionCode|ClassOfTradeCustomerCode|ClassOfTradeCustomerName|Source|        ModifiedDate|\n+------------+------------+-----------------------+------------+------------------------+------------------------+------+--------------------+\n|    0T000001|        1000|                     01|          00|                    null|                    NULL|   SAP|2022-01-20 23:44:...|\n|    0T000001|        1400|                     01|          00|                     CIT|            Cash In Term|   SAP|2023-10-26 10:21:...|\n|    0T000001|        1400|                     02|          00|                     IND|      Industry & Factory|   SAP|2023-10-26 10:31:...|\n|    0T000001|        9901|                     02|          00|                     COD|        Cash On Delivery|   SAP|2023-07-21 14:42:...|\n|    0T000001|        9901|                     02|          11|                     COD|        Cash On Delivery|   SAP|2023-07-21 14:42:...|\n+------------+------------+-----------------------+------------+------------------------+------------------------+------+--------------------+\n\ncleaned_path : /mnt/dw01-source/Dim/vw_dm_DimCompany.txt\nReading from: /mnt/dw01-source/Dim/vw_dm_DimCompany.txt\nSaving to: /mnt/dw01bronze/Dim/vw_dm_DimCompany\n+-----------+--------------------+--------------+------+--------------------+\n|CompanyCode|         CompanyName|TradingPartner|Source|        ModifiedDate|\n+-----------+--------------------+--------------+------+--------------------+\n|       1100|         สัมพันธ์กิจ|         27012|   SAP|2024-12-11 09:43:...|\n|       1200|บีเจซี เมก้า มาร์...|         27015|   SAP|2024-12-11 09:43:...|\n|       1300|     บีเจซี เพาเวอร์|         27017|   SAP|2024-12-11 09:43:...|\n|       1500|บิ๊กซี รีเทล โฮลดิ้ง|         27043|   SAP|2024-12-11 09:43:...|\n|       1600|บีเจซี ซูเปอร์เซ็...|         27034|   SAP|2024-12-11 09:43:...|\n+-----------+--------------------+--------------+------+--------------------+\n\ncleaned_path : /mnt/dw01-source/Dim/vw_dm_DimControllingArea.txt\nReading from: /mnt/dw01-source/Dim/vw_dm_DimControllingArea.txt\nSaving to: /mnt/dw01bronze/Dim/vw_dm_DimControllingArea\n+-------------------+-------------+--------------------+--------------------+------+\n|ControllingAreaCode|ChatAcctsCode|             SapDate|        ModifiedDate|Source|\n+-------------------+-------------+--------------------+--------------------+------+\n|               0001|          INT|2024-12-11 00:00:...|2024-12-11 09:43:...|   SAP|\n|               1000|          TGI|2024-12-11 00:00:...|2024-12-11 09:43:...|   SAP|\n|               BE01|         CABE|2024-12-11 00:00:...|2024-12-11 09:43:...|   SAP|\n|               BIGC|         BIGC|2024-12-11 00:00:...|2024-12-11 09:43:...|   SAP|\n|                BJC|          BJC|2024-12-11 00:00:...|2024-12-11 09:43:...|   SAP|\n+-------------------+-------------+--------------------+--------------------+------+\n\ncleaned_path : /mnt/dw01-source/Dim/vw_dm_DimCurrency.txt\nReading from: /mnt/dw01-source/Dim/vw_dm_DimCurrency.txt\nSaving to: /mnt/dw01bronze/Dim/vw_dm_DimCurrency\n+------------+-----+--------------------+------------+--------------------+--------------------+------+\n|CurrencyCode|ISOCD|               LTEXT|CurrencyName|             SapDate|        ModifiedDate|Source|\n+------------+-----+--------------------+------------+--------------------+--------------------+------+\n|         ADP|  ADP|      Andoran peseta|      Peseta|2024-12-11 00:00:...|2024-12-11 09:43:...|   SAP|\n|         AED|  AED|United Arab Emira...|      Dirham|2024-12-11 00:00:...|2024-12-11 09:43:...|   SAP|\n|         AFA|  AFA|             Afghani|     Afghani|2024-12-11 00:00:...|2024-12-11 09:43:...|   SAP|\n|         ALL|  ALL|        Albanian Lek|         Lek|2024-12-11 00:00:...|2024-12-11 09:43:...|   SAP|\n|         AMD|  AMD|       Armenian Dram|        Dram|2024-12-11 00:00:...|2024-12-11 09:43:...|   SAP|\n+------------+-----+--------------------+------------+--------------------+--------------------+------+\n\ncleaned_path : /mnt/dw01-source/Dim/vw_dm_DimCustomer.txt\nReading from: /mnt/dw01-source/Dim/vw_dm_DimCustomer.txt\nSaving to: /mnt/dw01bronze/Dim/vw_dm_DimCustomer\n+------------+--------+--------------------+--------------+--------------+--------------------+------------------+------------------+--------------+---------------+------------------+------------------+-------------+------------------+-------------+------+--------------------+\n|CustomerCode|Language|        CustomerName|CustomerNameTH|CustomerNameEN|     CustomerAddress|  CustomerDistrict|  CustomerProvince|CustomerRegion|CustomerCountry|CustomerPostalCode|CustomerAccGrpCode|CustomerClass|ParentCustomerCode|AddressNumber|Source|        ModifiedDate|\n+------------+--------+--------------------+--------------+--------------+--------------------+------------------+------------------+--------------+---------------+------------------+------------------+-------------+------------------+-------------+------+--------------------+\n|     3010336|       2| ฟารีดาคลินิกเวชกรรม|          NULL|          NULL|77/8 ถนนเลียบคลอง...|     อำเภอปากเกร็ด|    จังหวัดนนทบุรี|            11|             TH|             11120|              Y003|         null|           3010336|       385814|   SAP|2023-11-21 16:12:...|\n|     3012126|       2|ธีระสุคลินิกเวชกร...|          NULL|          NULL|1091 บางนา-ตราด  ...|          เขตบางนา|     กรุงเทพมหานคร|            10|             TH|             10150|              Y003|         null|           3012126|       527683|   SAP|2023-11-21 16:12:...|\n|     1093908|       2|       อดิศรเชียงราย|          NULL|          NULL|60/25 หมู่ที่ 17 ...|อำเภอเมืองเชียงราย|   จังหวัดเชียงราย|            57|             TH|             57000|              Y001|         null|           1093908|       320554|   SAP|2023-11-21 16:12:...|\n|     1098350|       2|นาย บุญลือ บุญมาเลิศ|          NULL|          NULL|32/4 หมู่ที่ 10  ...|     อำเภอบางละมุง|     จังหวัดชลบุรี|            20|             TH|             20150|              Y001|         null|           1098350|       513717|   SAP|2023-11-21 16:12:...|\n|     1095540|       2| คุณสมจิตร วชิรกำชัย|          NULL|          NULL|16/2 หมู่ที่ 4  ต...|    อำเภอพระประแดง|จังหวัดสมุทรปราการ|            19|             TH|             10130|              Y001|         null|           1095540|       435399|   SAP|2023-11-21 16:12:...|\n+------------+--------+--------------------+--------------+--------------+--------------------+------------------+------------------+--------------+---------------+------------------+------------------+-------------+------------------+-------------+------+--------------------+\n\ncleaned_path : /mnt/dw01-source/Dim/vw_dm_DimCustomerGroup.txt\nReading from: /mnt/dw01-source/Dim/vw_dm_DimCustomerGroup.txt\nSaving to: /mnt/dw01bronze/Dim/vw_dm_DimCustomerGroup\n+-----------------+------------------+--------------------+--------------------+------+\n|CustomerGroupCode| CustomerGroupName|             SapDate|        ModifiedDate|Source|\n+-----------------+------------------+--------------------+--------------------+------+\n|               01|         TCC Group|2024-12-11 00:00:...|2024-12-11 09:44:...|   SAP|\n|               02|   TC Pharma Group|2024-12-11 00:00:...|2024-12-11 09:44:...|   SAP|\n|               03|กลุ่มเฮลซ์เทรดดิ้ง|2024-12-11 00:00:...|2024-12-11 09:44:...|   SAP|\n|               04|  กลุ่มไทยน้ำทิพย์|2024-12-11 00:00:...|2024-12-11 09:44:...|   SAP|\n|               05|     Cerebos Group|2024-12-11 00:00:...|2024-12-11 09:44:...|   SAP|\n+-----------------+------------------+--------------------+--------------------+------+\n\ncleaned_path : /mnt/dw01-source/Dim/vw_dm_DimCustomerGroup5.txt\nReading from: /mnt/dw01-source/Dim/vw_dm_DimCustomerGroup5.txt\nSaving to: /mnt/dw01bronze/Dim/vw_dm_DimCustomerGroup5\n+------------------+------------------+--------------------+--------------------+------+\n|CustomerGroup5Code|CustomerGroup5Name|             SapDate|        ModifiedDate|Source|\n+------------------+------------------+--------------------+--------------------+------+\n|               141|             Foods|2025-01-06 00:00:...|2025-01-06 14:15:...|   SAP|\n|               142|          Beverage|2025-01-06 00:00:...|2025-01-06 14:15:...|   SAP|\n|               143|           Export1|2025-01-06 00:00:...|2025-01-06 14:15:...|   SAP|\n|               144|           Export2|2025-01-06 00:00:...|2025-01-06 14:15:...|   SAP|\n|               145|               TBR|2025-01-06 00:00:...|2025-01-06 14:15:...|   SAP|\n+------------------+------------------+--------------------+--------------------+------+\n\ncleaned_path : /mnt/dw01-source/Dim/vw_dm_DimDistributionChannel.txt\nReading from: /mnt/dw01-source/Dim/vw_dm_DimDistributionChannel.txt\nSaving to: /mnt/dw01bronze/Dim/vw_dm_DimDistributionChannel\n+-----------------------+-----+-----------------------+--------------------+--------------------+------+\n|DistributionChannelCode|SPRAS|DistributionChannelName|             SapDate|        ModifiedDate|Source|\n+-----------------------+-----+-----------------------+--------------------+--------------------+------+\n|                     NB|    E|           New Business|2024-12-26 00:00:...|2024-12-26 11:28:...|   SAP|\n|                     DI|    E|     Danico Ingredients|2024-12-26 00:00:...|2024-12-26 11:28:...|   SAP|\n|                     FC|    E|              Service 3|2024-12-26 00:00:...|2024-12-26 11:28:...|   SAP|\n|                     W1|    E|          Petrochemical|2024-12-26 00:00:...|2024-12-26 11:28:...|   SAP|\n|                     DE|    E|              Service 2|2024-12-26 00:00:...|2024-12-26 11:28:...|   SAP|\n+-----------------------+-----+-----------------------+--------------------+--------------------+------+\n\ncleaned_path : /mnt/dw01-source/Dim/vw_dm_DimDivision.txt\nReading from: /mnt/dw01-source/Dim/vw_dm_DimDivision.txt\nSaving to: /mnt/dw01bronze/Dim/vw_dm_DimDivision\n+------------+-----+--------------------+--------------------+--------------------+------+\n|DivisionCode|SPRAS|        DivisionName|             SapDate|        ModifiedDate|Source|\n+------------+-----+--------------------+--------------------+--------------------+------+\n|          39|    E|   HSC Support Units|2024-12-11 00:00:...|2024-12-11 09:43:...|   SAP|\n|          69|    E|              Others|2024-12-11 00:00:...|2024-12-11 09:43:...|   SAP|\n|          SS|    E|  Thai-Scandic Steel|2024-12-11 00:00:...|2024-12-11 09:43:...|   SAP|\n|          64|    E|           Pressware|2024-12-11 00:00:...|2024-12-11 09:43:...|   SAP|\n|          95|    E|Procurement Division|2024-12-11 00:00:...|2024-12-11 09:43:...|   SAP|\n+------------+-----+--------------------+--------------------+--------------------+------+\n\ncleaned_path : /mnt/dw01-source/Dim/vw_dm_DimMainProduct.txt\nReading from: /mnt/dw01-source/Dim/vw_dm_DimMainProduct.txt\nSaving to: /mnt/dw01bronze/Dim/vw_dm_DimMainProduct\n+------------------+---------------------+--------------------+------------------+----------------+--------------------+-----------------------+--------------------+--------------------+--------------------+------+\n|ProfitCategoryCode|ProfitSupplyChainCode|MainProductGroupCode|ParentCustomerCode|ProfitCenterCode|ProductHierarchyCode|ProductHierarchyL12Code|MainProductGroupName|             SapDate|        ModifiedDate|Source|\n+------------------+---------------------+--------------------+------------------+----------------+--------------------+-----------------------+--------------------+--------------------+--------------------+------+\n|             CG101|                  SC1|                 141|          0T000001|                |                    |                       |               Foods|2024-12-27 00:00:...|2024-12-27 17:14:...|   SAP|\n|             CG101|                  SC1|                 141|          0T000011|                |                    |                       |               Foods|2024-12-27 00:00:...|2024-12-27 17:14:...|   SAP|\n|             CG101|                  SC1|                 141|          0T007319|                |                    |                       |               Foods|2024-12-27 00:00:...|2024-12-27 17:14:...|   SAP|\n|             CG101|                  SC1|                 141|         0T0081440|                |                    |                       |               Foods|2024-12-27 00:00:...|2024-12-27 17:14:...|   SAP|\n|             CG101|                  SC1|                 141|          0T010725|                |                    |                       |               Foods|2024-12-27 00:00:...|2024-12-27 17:14:...|   SAP|\n+------------------+---------------------+--------------------+------------------+----------------+--------------------+-----------------------+--------------------+--------------------+--------------------+------+\n\ncleaned_path : /mnt/dw01-source/Dim/vw_dm_DimMaterial.txt\nReading from: /mnt/dw01-source/Dim/vw_dm_DimMaterial.txt\nSaving to: /mnt/dw01bronze/Dim/vw_dm_DimMaterial\n+--------------+--------------------+--------------------+------+\n|MaterialNumber|      MaterialNameEN|        ModifiedDate|Source|\n+--------------+--------------------+--------------------+------+\n|     100010001|FINANCIAL TIMES (...|2023-12-26 08:52:...|   SAP|\n|     100010002|FINANCIAL TIMES (...|2024-01-31 08:53:...|   SAP|\n|     100010003|FINANCIAL TIMES (...|2024-03-01 08:52:...|   SAP|\n|     100010004|FINANCIAL TIMES (...|2024-03-30 08:52:...|   SAP|\n|     100010005|FINANCIAL TIMES (...|2024-05-01 08:55:...|   SAP|\n+--------------+--------------------+--------------------+------+\n\ncleaned_path : /mnt/dw01-source/Dim/vw_dm_DimProductBrand.txt\nReading from: /mnt/dw01-source/Dim/vw_dm_DimProductBrand.txt\nSaving to: /mnt/dw01bronze/Dim/vw_dm_DimProductBrand\n+-----+----------------+----------------+------------------+--------------------+--------------------+------+\n|SPRAS|ProductBrandCode|ProductBrandName|ProductBrandNameTH|             SapDate|        ModifiedDate|Source|\n+-----+----------------+----------------+------------------+--------------------+--------------------+------+\n|    E|            0000|          Others|              null|2024-12-11 00:00:...|2024-12-11 09:43:...|   SAP|\n|    E|            0001|    BJC Services|              null|2024-12-11 00:00:...|2024-12-11 09:43:...|   SAP|\n|    E|            0002| BJC Consumables|              null|2024-12-11 00:00:...|2024-12-11 09:43:...|   SAP|\n|    E|            0003|     BJC Premium|              null|2024-12-11 00:00:...|2024-12-11 09:43:...|   SAP|\n|    E|            0004|BJC Non valuated|              null|2024-12-11 00:00:...|2024-12-11 09:43:...|   SAP|\n+-----+----------------+----------------+------------------+--------------------+--------------------+------+\n\ncleaned_path : /mnt/dw01-source/Dim/vw_dm_DimProductBrandGroup.txt\nReading from: /mnt/dw01-source/Dim/vw_dm_DimProductBrandGroup.txt\nSaving to: /mnt/dw01bronze/Dim/vw_dm_DimProductBrandGroup\n+---------------------+---------------------+------+--------------------+\n|ProductBrandGroupCode|ProductBrandGroupName|Source|        ModifiedDAte|\n+---------------------+---------------------+------+--------------------+\n|            CS1001234|               PARROT|   SAP|2023-06-26 12:16:...|\n|            CS1001235|               PARROT|   SAP|2023-06-26 12:16:...|\n|            CS1001236|               PARROT|   SAP|2023-06-26 12:16:...|\n|            CS1001237|               PARROT|   SAP|2023-06-26 12:16:...|\n|            CS1001238|               PARROT|   SAP|2023-06-26 12:16:...|\n+---------------------+---------------------+------+--------------------+\n\ncleaned_path : /mnt/dw01-source/Dim/vw_dm_DimProductCategory.txt\nReading from: /mnt/dw01-source/Dim/vw_dm_DimProductCategory.txt\nSaving to: /mnt/dw01bronze/Dim/vw_dm_DimProductCategory\n+-------------------+-----------+-------------------+--------------------+------+\n|ProductCategoryCode|LevelNumber|ProductCategoryName|        ModifiedDate|Source|\n+-------------------+-----------+-------------------+--------------------+------+\n|              320H9|          2|              OBGYN|2024-12-11 09:44:...|   SAP|\n|              320HB|          2|              Ortho|2024-12-11 09:44:...|   SAP|\n|              320HD|          2|             Surger|2024-12-11 09:44:...|   SAP|\n|              320HE|          2|            Ophthal|2024-12-11 09:44:...|   SAP|\n|              320HF|          2|          ENT      |2024-12-11 09:44:...|   SAP|\n+-------------------+-----------+-------------------+--------------------+------+\n\ncleaned_path : /mnt/dw01-source/Dim/vw_dm_DimProductHierarchy.txt\nReading from: /mnt/dw01-source/Dim/vw_dm_DimProductHierarchy.txt\nSaving to: /mnt/dw01bronze/Dim/vw_dm_DimProductHierarchy\n+--------------------+-----------+--------------------+----------+-------------------+-----------------------+-------------------+-----------------------+-------------------+-----------------------+-------------------+-------------------+-------------------+-------------------+-------------------+-------------------+---------------------+--------------------+-----------------+------+--------------------+\n|ProductHierarchyCode|LevelNumber|ProductHierarchyName|ParentCode|ProductHierarchyLV1|ProductHierarchyLV1Name|ProductHierarchyLV2|ProductHierarchyLV2Name|ProductHierarchyLV3|ProductHierarchyLV3Name|ProductHierarchyLV4|ProductHierarchyLV5|ProductHierarchyLV6|ProductHierarchyLV7|ProductHierarchyLV8|ProductHierarchyLV9|ProductHierarchyBrand|    ProductBrandText|ProductBrandClass|Source|        ModifiedDate|\n+--------------------+-----------+--------------------+----------+-------------------+-----------------------+-------------------+-----------------------+-------------------+-----------------------+-------------------+-------------------+-------------------+-------------------+-------------------+-------------------+---------------------+--------------------+-----------------+------+--------------------+\n|           320H8F1QL|          3|Neurology Technom...|      null|                320|              BJC - MID|              320H8|              Neurology|          320H8F1QL|   Neurology Technom...|               null|               null|               null|               null|               null|               null|                 F1QL|       Technomed (D)|             null|   SAP|2024-12-11 09:44:...|\n|           320H8F1YM|          3|Neurology Newroni...|      null|                320|              BJC - MID|              320H8|              Neurology|          320H8F1YM|   Neurology Newroni...|               null|               null|               null|               null|               null|               null|                 F1YM|Newronika S.P.A. (D)|             null|   SAP|2024-12-11 09:44:...|\n|           320H8L0BZ|          3|    Neurology Others|      null|                320|              BJC - MID|              320H8|              Neurology|          320H8L0BZ|       Neurology Others|               null|               null|               null|               null|               null|               null|                 L0BZ|              Others|             null|   SAP|2024-12-11 09:44:...|\n|           320H8L1BZ|          3|Neurology Others (D)|      null|                320|              BJC - MID|              320H8|              Neurology|          320H8L1BZ|   Neurology Others (D)|               null|               null|               null|               null|               null|               null|                 L1BZ|          Others (D)|             null|   SAP|2024-12-11 09:44:...|\n|               320H9|          2|               OBGYN|      null|                320|              BJC - MID|              320H9|                  OBGYN|              320H9|                  OBGYN|               null|               null|               null|               null|               null|               null|                 null|                null|             null|   SAP|2024-12-11 09:44:...|\n+--------------------+-----------+--------------------+----------+-------------------+-----------------------+-------------------+-----------------------+-------------------+-----------------------+-------------------+-------------------+-------------------+-------------------+-------------------+-------------------+---------------------+--------------------+-----------------+------+--------------------+\n\ncleaned_path : /mnt/dw01-source/Dim/vw_dm_DimProfitCategory.txt\nError extract  dbfs:/mnt/dw01-source/Dim/vw_dm_DimProfitCategory.txt: [UNRESOLVED_COLUMN.WITH_SUGGESTION] A column or function parameter with name `ModifiedDate` cannot be resolved. Did you mean one of the following? [`ProfitCategoryName`, `ProfitCategoryCode`, `ProfitCategoryShortName`].;\n'Filter (cast('ModifiedDate as date) >= 2020-12-11 00:00:00.000)\n+- Relation [ProfitCategoryCode#22361,ProfitCategoryShortName#22362,ProfitCategoryName#22363] csv\n\ncleaned_path : /mnt/dw01-source/Dim/vw_dm_DimProfitMap.txt\nReading from: /mnt/dw01-source/Dim/vw_dm_DimProfitMap.txt\nSaving to: /mnt/dw01bronze/Dim/vw_dm_DimProfitMap\n+-------------------+----------------+--------------+-----------+--------------------+--------------------+-----------+-----------------+---------------+-----------------+------------------+-------------+-----------------+---------------------+--------+--------+--------+--------+-----------------+------------+--------------------+----------------------+--------------------+------+\n|ControllingAreaCode|ProfitCenterCode|TradingPartner|CompanyCode|         CompanyName|    ProfitCenterName|SegmentCode|BusinessGroupCode|SupplyChainCode|ProfitSegmentCode|ProfitCategoryCode|ProfitBSCCode|ProfitCombineCode|ProfitSupplyChainCode|HFMCode0|HFMCode1|HFMCode2|HFMCode3|PurchasingOrgCode|SalesOrgCode|ProvisionSegmentCode|InventoryAgingTypeCode|        ModifiedDate|Source|\n+-------------------+----------------+--------------+-----------+--------------------+--------------------+-----------+-----------------+---------------+-----------------+------------------+-------------+-----------------+---------------------+--------+--------+--------+--------+-----------------+------------+--------------------+----------------------+--------------------+------+\n|               1000|            1110|         21001|       1000|Thai Glass Indust...|     Rajburana Glass|        S01|               PS|             PB|            SG101|             CG101|        BS101|            CB101|                  SC1|  1L0001|  1L1001|  1L2001|  1L3001|             4000|        1000|                 TGI|                  NULL|2024-12-27 17:14:...|   SAP|\n|               1000|            1210|         21001|       1000|Thai Glass Indust...|      Bangplee Glass|        S01|               PS|             PB|            SG101|             CG101|        BS101|            CB101|                  SC1|  1L0001|  1L1001|  1L2001|  1L3001|             4000|        1000|                 TGI|                  NULL|2024-12-27 17:14:...|   SAP|\n|               1000|            1220|         21001|       1000|Thai Glass Indust...|        Bangplee ACL|        S01|               PS|             PB|            SG101|             CG101|        BS101|            CB101|                  SC1|  1L0001|  1L1001|  1L2001|  1L3001|             4000|        1000|                 TGI|                  NULL|2024-12-27 17:14:...|   SAP|\n|               1000|            1910|         21001|       1000|Thai Glass Indust...|Central Profit Ce...|        S01|               PS|             PB|            SG101|             CG101|        BS101|            CB101|                  SC1|  1L0001|  1L1001|  1L2001|  1L3001|             4000|        1000|                 TGI|                  NULL|2024-12-27 17:14:...|   SAP|\n|               1000|            1910|         25007|       1400|Thai Malaya Glass...|Central Profit Ce...|        S01|               PS|             PB|            SG101|             CG101|        BS101|            CB101|                  SC1|  1L0001|  1L1001|  1L2001|  1L3001|             4000|        1400|                 TMG|                  NULL|2024-12-27 17:14:...|   SAP|\n+-------------------+----------------+--------------+-----------+--------------------+--------------------+-----------+-----------------+---------------+-----------------+------------------+-------------+-----------------+---------------------+--------+--------+--------+--------+-----------------+------------+--------------------+----------------------+--------------------+------+\n\ncleaned_path : /mnt/dw01-source/Dim/vw_dm_DimSalesGroup.txt\nReading from: /mnt/dw01-source/Dim/vw_dm_DimSalesGroup.txt\nSaving to: /mnt/dw01bronze/Dim/vw_dm_DimSalesGroup\n+--------------+--------------+--------------------+--------------------+------+\n|SalesGroupCode|SalesGroupName|             SapDate|        ModifiedDate|Source|\n+--------------+--------------+--------------------+--------------------+------+\n|            00|   Dummy Group|2024-12-19 00:00:...|2024-12-19 13:33:...|   SAP|\n|           001| Sales Group A|2024-12-19 00:00:...|2024-12-19 13:33:...|   SAP|\n|           002| Sales Group B|2024-12-19 00:00:...|2024-12-19 13:33:...|   SAP|\n|           003| Sales Group C|2024-12-19 00:00:...|2024-12-19 13:33:...|   SAP|\n|           130|BJC Power Team|2024-12-19 00:00:...|2024-12-19 13:33:...|   SAP|\n+--------------+--------------+--------------------+--------------------+------+\n\ncleaned_path : /mnt/dw01-source/Dim/vw_dm_DimSalesOffice.txt\nReading from: /mnt/dw01-source/Dim/vw_dm_DimSalesOffice.txt\nSaving to: /mnt/dw01bronze/Dim/vw_dm_DimSalesOffice\n+---------------+--------------------+--------------------+--------------------+------+\n|SalesOfficeCode|     SalesOfficeName|             SapDate|        ModifiedDate|Source|\n+---------------+--------------------+--------------------+--------------------+------+\n|           0000|               Dummy|2024-12-11 00:00:...|2024-12-11 09:43:...|   SAP|\n|           0001|    TGI Sales office|2024-12-11 00:00:...|2024-12-11 09:43:...|   SAP|\n|           0GPD|                 GPD|2024-12-11 00:00:...|2024-12-11 09:43:...|   SAP|\n|           0INT|                 BJI|2024-12-11 00:00:...|2024-12-11 09:43:...|   SAP|\n|           1300|Head Office BJC Powe|2024-12-11 00:00:...|2024-12-11 09:43:...|   SAP|\n+---------------+--------------------+--------------------+--------------------+------+\n\ncleaned_path : /mnt/dw01-source/Dim/vw_dm_DimSalesOrganization.txt\nReading from: /mnt/dw01-source/Dim/vw_dm_DimSalesOrganization.txt\nSaving to: /mnt/dw01bronze/Dim/vw_dm_DimSalesOrganization\n+------------+------------------+-----------+--------------------+--------------------+--------------------+------+\n|SalesOrgCode|      SalesOrgName|CompanyCode|         CompanyName|             SapDate|        ModifiedDate|Source|\n+------------+------------------+-----------+--------------------+--------------------+--------------------+------+\n|        1300|         BJC POWER|       1300|     บีเจซี เพาเวอร์|2024-12-11 00:00:...|2024-12-11 09:43:...|   SAP|\n|        2100|        Asia Books|       2100|บริษัท เอเซียบุ๊ค...|2024-12-11 00:00:...|2024-12-11 09:43:...|   SAP|\n|        2200|Thai-Scandic Steel|       2200|บริษัท ไทย-สแกนดิ...|2024-12-11 00:00:...|2024-12-11 09:43:...|   SAP|\n|        2900|               BJL|       2900|เบอร์ลี่ยุคเกอร์ ...|2024-12-11 00:00:...|2024-12-11 09:43:...|   SAP|\n|        3100|             Cosma|       3100|      คอสม่า เมดิคอล|2024-12-11 00:00:...|2024-12-11 09:43:...|   SAP|\n+------------+------------------+-----------+--------------------+--------------------+--------------------+------+\n\ncleaned_path : /mnt/dw01-source/Dim/vw_dm_DimSalesman.txt\nReading from: /mnt/dw01-source/Dim/vw_dm_DimSalesman.txt\nSaving to: /mnt/dw01bronze/Dim/vw_dm_DimSalesman\n+------------+--------------------+------------------+------------------+---------------+--------------+--------------+-----+-----+----------+----------+----------+--------------------+--------------------+------+\n|SalesmanCode|        SalesmanName|SalesmanParentCode|SalesmanParentName|SalesOfficeCode|SalesGroupCode|CollectionCode|NUM02|STAT2|ReasonCode| ValidFrom|   ValidTo|             SapDate|        ModifiedDate|Source|\n+------------+--------------------+------------------+------------------+---------------+--------------+--------------+-----+-----+----------+----------+----------+--------------------+--------------------+------+\n|     1008535|อธิวัฒน์  วัชราวิ...|           1004146|                  |           EAST|            E1|           023|    N|    Y|        05|2013-01-01|9999-12-31|2025-01-14 00:00:...|2025-01-14 10:19:...|   SAP|\n|     1010470|    สุภาพรรณ เปาทุ้ย|           1001647|                  |           CENT|            C1|           015|    N|    Y|        05|2014-05-01|9999-12-31|2025-01-14 00:00:...|2025-01-14 10:19:...|   SAP|\n|    V4140213|  Nguyen Duc Duy Anh|              null|              null|           null|          null|          null| null| null|      null|1900-01-01|1900-01-01|2024-07-31 15:27:...|2024-07-31 15:27:...|NonSap|\n|    V4140221|Truong Thi Hong N...|              null|              null|           null|          null|          null| null| null|      null|1900-01-01|1900-01-01|2024-07-31 15:27:...|2024-07-31 15:27:...|NonSap|\n|    V4140226|Pham Nhat Minh Giang|              null|              null|           null|          null|          null| null| null|      null|1900-01-01|1900-01-01|2024-07-31 15:27:...|2024-07-31 15:27:...|NonSap|\n+------------+--------------------+------------------+------------------+---------------+--------------+--------------+-----+-----+----------+----------+----------+--------------------+--------------------+------+\n\ncleaned_path : /mnt/dw01-source/Dim/vw_dm_DimTradingPartner.txt\nReading from: /mnt/dw01-source/Dim/vw_dm_DimTradingPartner.txt\nSaving to: /mnt/dw01bronze/Dim/vw_dm_DimTradingPartner\n+------------------+--------------------+--------------------+------+\n|TradingPartnerCode|  TradingPartnerName|        ModifiedDate|Source|\n+------------------+--------------------+--------------------+------+\n|                 1| Gesellschaft G00000|2024-12-11 09:43:...|   SAP|\n|             10001|Berli Jucker Publ...|2024-12-11 09:43:...|   SAP|\n|             14141|               BLOCK|2024-12-11 09:43:...|   SAP|\n|             14142|               BLOCK|2024-12-11 09:43:...|   SAP|\n|             14143|               BLOCK|2024-12-11 09:43:...|   SAP|\n+------------------+--------------------+--------------------+------+\n\n"
     ]
    }
   ],
   "source": [
    "\n",
    "for i in path_source:\n",
    "\n",
    "    #Extract\n",
    "    try:\n",
    "        cleaned_path = i.replace(\"dbfs:\", \"\")\n",
    "        print(f\"cleaned_path : {cleaned_path}\")\n",
    "        df = spark.read.format(\"csv\").option(\"sep\", \"\\t\").option('header',True).load(cleaned_path)\n",
    "        df = df.filter(col(\"ModifiedDate\").cast(\"date\") >= extract_date)\n",
    "        print(f\"Reading from: {cleaned_path}\")\n",
    "    except Exception as e:\n",
    "        print(f\"Error extract  {i}: {str(e)}\")\n",
    "        continue\n",
    "\n",
    "    #Load\n",
    "    try:\n",
    "        path_destination = cleaned_path.replace('dw01-source','dw01bronze').replace('.txt','')\n",
    "        df.write.format(\"parquet\").mode(\"overwrite\").save(path_destination)\n",
    "        print(f\"Saving to: {path_destination}\")\n",
    "        df.limit(5).show()\n",
    "    except Exception as e:\n",
    "        print(f\"Error load {i}: {str(e)}\")\n",
    "        continue\n",
    "\n"
   ]
  },
  {
   "cell_type": "code",
   "execution_count": 0,
   "metadata": {
    "application/vnd.databricks.v1+cell": {
     "cellMetadata": {
      "byteLimit": 2048000,
      "rowLimit": 10000
     },
     "inputWidgets": {},
     "nuid": "94d4cebc-6c62-4385-8d06-51817949bc17",
     "showTitle": false,
     "tableResultSettingsMap": {},
     "title": ""
    }
   },
   "outputs": [
    {
     "output_type": "stream",
     "name": "stdout",
     "output_type": "stream",
     "text": [
      "Load to df: /mnt/dw01bronze/Dim/vw_dm_DimBrand\nwrite df to: /mnt/dw01bronze/Dim/pre_tx_DimBrand\nLoad to df: /mnt/dw01bronze/Dim/vw_dm_DimClassOfTrade\nwrite df to: /mnt/dw01bronze/Dim/pre_tx_DimClassOfTrade\nLoad to df: /mnt/dw01bronze/Dim/vw_dm_DimClassOfTradeCustomer\nwrite df to: /mnt/dw01bronze/Dim/pre_tx_DimClassOfTradeCustomer\nLoad to df: /mnt/dw01bronze/Dim/vw_dm_DimCompany\nwrite df to: /mnt/dw01bronze/Dim/pre_tx_DimCompany\nLoad to df: /mnt/dw01bronze/Dim/vw_dm_DimControllingArea\nwrite df to: /mnt/dw01bronze/Dim/pre_tx_DimControllingArea\nLoad to df: /mnt/dw01bronze/Dim/vw_dm_DimCurrency\nwrite df to: /mnt/dw01bronze/Dim/pre_tx_DimCurrency\nLoad to df: /mnt/dw01bronze/Dim/vw_dm_DimCustomer\nwrite df to: /mnt/dw01bronze/Dim/pre_tx_DimCustomer\nLoad to df: /mnt/dw01bronze/Dim/vw_dm_DimCustomerGroup\nwrite df to: /mnt/dw01bronze/Dim/pre_tx_DimCustomerGroup\nLoad to df: /mnt/dw01bronze/Dim/vw_dm_DimCustomerGroup5\nwrite df to: /mnt/dw01bronze/Dim/pre_tx_DimCustomerGroup5\nLoad to df: /mnt/dw01bronze/Dim/vw_dm_DimDistributionChannel\nwrite df to: /mnt/dw01bronze/Dim/pre_tx_DimDistributionChannel\nLoad to df: /mnt/dw01bronze/Dim/vw_dm_DimDivision\nwrite df to: /mnt/dw01bronze/Dim/pre_tx_DimDivision\nLoad to df: /mnt/dw01bronze/Dim/vw_dm_DimMainProduct\nwrite df to: /mnt/dw01bronze/Dim/pre_tx_DimMainProduct\nLoad to df: /mnt/dw01bronze/Dim/vw_dm_DimMaterial\nwrite df to: /mnt/dw01bronze/Dim/pre_tx_DimMaterial\nLoad to df: /mnt/dw01bronze/Dim/vw_dm_DimProductBrand\nwrite df to: /mnt/dw01bronze/Dim/pre_tx_DimProductBrand\nLoad to df: /mnt/dw01bronze/Dim/vw_dm_DimProductBrandGroup\nwrite df to: /mnt/dw01bronze/Dim/pre_tx_DimProductBrandGroup\nLoad to df: /mnt/dw01bronze/Dim/vw_dm_DimProductCategory\nwrite df to: /mnt/dw01bronze/Dim/pre_tx_DimProductCategory\nLoad to df: /mnt/dw01bronze/Dim/vw_dm_DimProductHierarchy\nwrite df to: /mnt/dw01bronze/Dim/pre_tx_DimProductHierarchy\nLoad to df: /mnt/dw01bronze/Dim/vw_dm_DimProfitCategory\nwrite df to: /mnt/dw01bronze/Dim/pre_tx_DimProfitCategory\nLoad to df: /mnt/dw01bronze/Dim/vw_dm_DimProfitMap\nwrite df to: /mnt/dw01bronze/Dim/pre_tx_DimProfitMap\nLoad to df: /mnt/dw01bronze/Dim/vw_dm_DimSalesGroup\nwrite df to: /mnt/dw01bronze/Dim/pre_tx_DimSalesGroup\nLoad to df: /mnt/dw01bronze/Dim/vw_dm_DimSalesOffice\nwrite df to: /mnt/dw01bronze/Dim/pre_tx_DimSalesOffice\nLoad to df: /mnt/dw01bronze/Dim/vw_dm_DimSalesOrganization\nwrite df to: /mnt/dw01bronze/Dim/pre_tx_DimSalesOrganization\nLoad to df: /mnt/dw01bronze/Dim/vw_dm_DimSalesman\nwrite df to: /mnt/dw01bronze/Dim/pre_tx_DimSalesman\nLoad to df: /mnt/dw01bronze/Dim/vw_dm_DimTradingPartner\nwrite df to: /mnt/dw01bronze/Dim/pre_tx_DimTradingPartner\n"
     ]
    }
   ],
   "source": [
    " for i in path_source:\n",
    "    \n",
    "    #Transform\n",
    "    cleaned_path = i.replace(\"dbfs:\", \"\")\n",
    "    path_source = cleaned_path.replace('dw01-source','dw01bronze').replace('.txt','')\n",
    "    df = spark.read.format(\"parquet\").load(path_source)\n",
    "    print(f\"Load to df: {path_source}\")\n",
    "\n",
    "    #Transform: Clean null or NULL\n",
    "    for i in df.columns:\n",
    "        path_destination = path_source.replace('vw_dm_','pre_tx_')\n",
    "        df = df.withColumn(i, when( (col(i) == \"NULL\") | (col(i).isNull()) , lit(\"\")).otherwise(col(i)))\n",
    "        df.write.format(\"parquet\").mode(\"overwrite\").save(path_destination)\n",
    "    print(f\"write df to: {path_destination}\")"
   ]
  }
 ],
 "metadata": {
  "application/vnd.databricks.v1+notebook": {
   "computePreferences": null,
   "dashboards": [],
   "environmentMetadata": {
    "base_environment": "",
    "client": "1"
   },
   "language": "python",
   "notebookMetadata": {
    "pythonIndentUnit": 4
   },
   "notebookName": "_P1-ELT-dim-profit&loss-source-to-pre-tx-bronze",
   "widgets": {
    "extract_criteria": {
     "currentValue": "full",
     "nuid": "070e22a1-d8e4-4ab8-96bf-ab7122667819",
     "typedWidgetInfo": null,
     "widgetInfo": {
      "widgetType": "text",
      "defaultValue": "",
      "label": null,
      "name": "extract_criteria",
      "options": {
       "widgetType": "text",
       "autoCreated": null,
       "validationRegex": null
      }
     }
    },
    "extract_date_fix": {
     "currentValue": "2020-12-11 00:00:00.000",
     "nuid": "fdfe9e5b-d467-41ca-85d6-dfeb177cdb20",
     "typedWidgetInfo": null,
     "widgetInfo": {
      "widgetType": "text",
      "defaultValue": "",
      "label": null,
      "name": "extract_date_fix",
      "options": {
       "widgetType": "text",
       "autoCreated": null,
       "validationRegex": null
      }
     }
    }
   }
  }
 },
 "nbformat": 4,
 "nbformat_minor": 0
}
