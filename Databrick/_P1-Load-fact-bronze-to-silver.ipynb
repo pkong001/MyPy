{
 "cells": [
  {
   "cell_type": "code",
   "execution_count": 0,
   "metadata": {
    "application/vnd.databricks.v1+cell": {
     "cellMetadata": {
      "byteLimit": 2048000,
      "rowLimit": 10000
     },
     "inputWidgets": {},
     "nuid": "27640639-995e-4bf0-860f-28ac71731082",
     "showTitle": false,
     "tableResultSettingsMap": {},
     "title": ""
    }
   },
   "outputs": [],
   "source": [
    "from delta.tables import DeltaTable\n",
    "from pyspark.sql.functions import col,when\n",
    "from pyspark.sql.types import StringType"
   ]
  },
  {
   "cell_type": "code",
   "execution_count": 0,
   "metadata": {
    "application/vnd.databricks.v1+cell": {
     "cellMetadata": {
      "byteLimit": 2048000,
      "rowLimit": 10000
     },
     "inputWidgets": {},
     "nuid": "15a2bf61-34aa-4ef6-b903-e1fe595f530b",
     "showTitle": false,
     "tableResultSettingsMap": {},
     "title": ""
    }
   },
   "outputs": [],
   "source": [
    "#Variable\n",
    "dbutils.widgets.text(\"table_name\",\"FactPnLCommercial\")\n",
    "table_name = dbutils.widgets.get(\"table_name\")"
   ]
  },
  {
   "cell_type": "code",
   "execution_count": 0,
   "metadata": {
    "application/vnd.databricks.v1+cell": {
     "cellMetadata": {
      "byteLimit": 2048000,
      "rowLimit": 10000
     },
     "inputWidgets": {},
     "nuid": "a8481016-ac33-43d1-8591-717c65d19425",
     "showTitle": true,
     "tableResultSettingsMap": {},
     "title": "VAR"
    }
   },
   "outputs": [],
   "source": [
    "keys_name_list = [\n",
    "    \"DimBrand\",\n",
    "    \"DimClassOfTrade\",\n",
    "    \"DimCompany\",\n",
    "    \"DimCustomer\",\n",
    "    \"DimCustomerGroup5\",\n",
    "    \"DimDistributionChannel\",\n",
    "    \"DimDivision\",\n",
    "    \"DimMaterial\",\n",
    "    \"DimProductHierarchy\",\n",
    "    \"DimProfitCenterData\",\n",
    "]\n",
    "\n",
    "keys_path_list = [\n",
    "    i.path.replace(\"dbfs:\", \"\")[:-1]\n",
    "    for i in dbutils.fs.ls(\"/mnt/dw01silver/Dim\")\n",
    "    if i.name.replace(\"/\", \"\") in keys_name_list\n",
    "]\n",
    "\n",
    "keys_list = [i.replace(\"Dim\",\"\") + \"Key\" for i in keys_name_list]\n",
    "\n",
    "#Variable (Conditioned)\n",
    "if table_name == 'Z1FI3MP01':\n",
    "    src_path = \"/mnt/dw01bronze/Fact/pre_tx_FactPnLCommercial\"\n",
    "    dest_path = \"/mnt/dw01silver/Fact/FactProfitAndLoss\"\n",
    "elif table_name == 'Z1FI3MP02':\n",
    "    src_path = \"/mnt/dw01bronze/Fact/pre_tx_FactPnLCombine\"\n",
    "    dest_path = \"/mnt/dw01silver/Fact/FactProfitAndLoss\"\n",
    "else:\n",
    "    table_name = 'Error แน่มิง'\n",
    "    src_path = \"error\"\n",
    "    dest_path = \"error\""
   ]
  },
  {
   "cell_type": "code",
   "execution_count": 0,
   "metadata": {
    "application/vnd.databricks.v1+cell": {
     "cellMetadata": {
      "byteLimit": 2048000,
      "rowLimit": 10000
     },
     "inputWidgets": {},
     "nuid": "626e835e-7c53-4823-984a-54bdbaaf5aa8",
     "showTitle": true,
     "tableResultSettingsMap": {},
     "title": "check"
    }
   },
   "outputs": [
    {
     "output_type": "stream",
     "name": "stdout",
     "output_type": "stream",
     "text": [
      "/mnt/dw01bronze/Fact/pre_tx_FactPnLCombine\n/mnt/dw01silver/Fact/FactProfitAndLoss\n"
     ]
    }
   ],
   "source": [
    "print(f'src_path: {src_path}')\n",
    "print(f'dest_path: {dest_path}')"
   ]
  },
  {
   "cell_type": "code",
   "execution_count": 0,
   "metadata": {
    "application/vnd.databricks.v1+cell": {
     "cellMetadata": {
      "byteLimit": 2048000,
      "rowLimit": 10000
     },
     "inputWidgets": {},
     "nuid": "b46e8e87-5d58-4935-bf94-66f16ec203e8",
     "showTitle": false,
     "tableResultSettingsMap": {},
     "title": ""
    }
   },
   "outputs": [],
   "source": [
    "def generate_merge_script(src_path, dest_path):\n",
    "    df = spark.read.format(\"delta\").load(dest_path)\n",
    "\n",
    "    # Identify fucking string\n",
    "    string_columns = [\n",
    "        field.name\n",
    "        for field in df.schema.fields\n",
    "        if (isinstance(field.dataType, StringType))\n",
    "        & (field.name != \"CreatedBy\")\n",
    "        & (field.name != \"ModifiedBy\")\n",
    "        & (field.name != \"Source\")\n",
    "    ]\n",
    "\n",
    "    merge_condition = \"\\n   AND \".join(\n",
    "        [f\"tar.{i} = src.{i}\" for i in string_columns]\n",
    "    )\n",
    "\n",
    "    # update_columns = [i for i in df.columns if (i not in string_columns) & (i != \"ID\") & (i != \"IsActive\")]\n",
    "    update_columns = [\n",
    "        i for i in df.columns\n",
    "        if i not in string_columns\n",
    "        and i not in [\"ID\", \"IsActive\", \"CreatedBy\", \"CreatedDate\", \"ModifiedBy\", \"ModifiedDate\"]\n",
    "    ]\n",
    "    update_set = \",\\n       \".join([f\"tar.{i} = src.{i}\" for i in update_columns])\n",
    "\n",
    "    insert_columns = \", \".join([\n",
    "        i for i in df.columns\n",
    "        if i not in [\"ID\", \"IsActive\", \"CreatedBy\", \"CreatedDate\", \"ModifiedBy\", \"ModifiedDate\"]\n",
    "    ])\n",
    "    insert_values = \", \".join([f\"src.{i}\" for i in df.columns if i not in [\"ID\", \"IsActive\", \"CreatedBy\", \"CreatedDate\", \"ModifiedBy\", \"ModifiedDate\"]])\n",
    "\n",
    "    # insert_values = \", \".join([f\"src.{i}\" for i in df.columns if (i != \"ID\")])\n",
    "\n",
    "    df_temp = spark.read.format('parquet').load(src_path)\n",
    "    df_temp.createOrReplaceTempView(\"src\")\n",
    "    # Build the final MERGE SQL query\n",
    "    merge_sql = f\"\"\"\n",
    "    MERGE INTO delta.`{dest_path}` AS tar\n",
    "    USING src AS src\n",
    "    ON {merge_condition}\n",
    "    WHEN MATCHED THEN\n",
    "      UPDATE SET\n",
    "        {update_set},\n",
    "        tar.IsActive = 1,\n",
    "        tar.ModifiedBy = 'spark',\n",
    "        tar.ModifiedDate = CURRENT_TIMESTAMP\n",
    "    WHEN NOT MATCHED THEN\n",
    "      INSERT ({insert_columns}\n",
    "        ,IsActive\n",
    "        ,CreatedBy\n",
    "        ,CreatedDate\n",
    "        ,ModifiedBy\n",
    "        ,ModifiedDate\n",
    "        )\n",
    "      VALUES ({insert_values}\n",
    "        ,1\n",
    "        ,'spark'\n",
    "        ,CURRENT_TIMESTAMP\n",
    "        ,'spark'\n",
    "        ,CURRENT_TIMESTAMP\n",
    "        );\n",
    "    \"\"\"\n",
    "\n",
    "    return merge_sql\n"
   ]
  },
  {
   "cell_type": "markdown",
   "metadata": {
    "application/vnd.databricks.v1+cell": {
     "cellMetadata": {
      "byteLimit": 2048000,
      "rowLimit": 10000
     },
     "inputWidgets": {},
     "nuid": "e9821f89-669e-4531-a956-e7a7cc716cdd",
     "showTitle": false,
     "tableResultSettingsMap": {},
     "title": ""
    }
   },
   "source": [
    "#Create Surrogate Key"
   ]
  },
  {
   "cell_type": "code",
   "execution_count": 0,
   "metadata": {
    "application/vnd.databricks.v1+cell": {
     "cellMetadata": {
      "byteLimit": 2048000,
      "rowLimit": 10000
     },
     "inputWidgets": {},
     "nuid": "7bd2d574-1d74-42e3-8315-65529002e0de",
     "showTitle": false,
     "tableResultSettingsMap": {},
     "title": ""
    }
   },
   "outputs": [
    {
     "output_type": "stream",
     "name": "stdout",
     "output_type": "stream",
     "text": [
      "Adding: BrandKey\nAdding: ClassOfTradeKey\nAdding: CompanyKey\nAdding: CustomerKey\nAdding: CustomerGroup5Key\nAdding: DistributionChannelKey\nAdding: DivisionKey\nAdding: MaterialKey\nAdding: ProductHierarchyKey\nAdding: ProfitCenterDataKey\n"
     ]
    }
   ],
   "source": [
    "df_fact = spark.read.format(\"parquet\").load(src_path)\n",
    "for i in keys_path_list:\n",
    "    if i.split(\"/\")[-1].replace(\"Dim\", \"\") == \"Material\":\n",
    "        name_code = \"MaterialNumber\"\n",
    "        name_key = \"MaterialKey\"\n",
    "    else:\n",
    "        name_code = i.split(\"/\")[-1].replace(\"Dim\", \"\") + \"Code\"\n",
    "        name_key = name_code.replace(\"Code\", \"Key\")\n",
    "\n",
    "    print(f\"Adding: {name_key}\")\n",
    "    df_dim = spark.read.format(\"delta\").load(i)\n",
    "    df_fact = df_fact.join(\n",
    "        df_dim, df_fact[f\"{name_code}\"] == df_dim[f\"{name_code}\"], \"left\"\n",
    "    ).select(df_fact[f\"*\"], when(df_dim[f\"{name_key}\"].isNull(), -1).otherwise(df_dim[f\"{name_key}\"]).alias(f\"{name_key}\"))"
   ]
  },
  {
   "cell_type": "markdown",
   "metadata": {
    "application/vnd.databricks.v1+cell": {
     "cellMetadata": {
      "byteLimit": 2048000,
      "rowLimit": 10000
     },
     "inputWidgets": {},
     "nuid": "266311f0-e98e-435f-97f2-38debb91b825",
     "showTitle": false,
     "tableResultSettingsMap": {},
     "title": ""
    }
   },
   "source": [
    "\n",
    "#Run Create Surrogate Key"
   ]
  },
  {
   "cell_type": "code",
   "execution_count": 0,
   "metadata": {
    "application/vnd.databricks.v1+cell": {
     "cellMetadata": {
      "byteLimit": 2048000,
      "rowLimit": 10000
     },
     "inputWidgets": {},
     "nuid": "5dbbfcbd-e301-4397-b8ba-3f95cc48ccfb",
     "showTitle": false,
     "tableResultSettingsMap": {},
     "title": ""
    }
   },
   "outputs": [
    {
     "output_type": "stream",
     "name": "stdout",
     "output_type": "stream",
     "text": [
      "Row(num_affected_rows=5270)\nRow(num_updated_rows=5270)\nRow(num_deleted_rows=0)\nRow(num_inserted_rows=0)\n"
     ]
    }
   ],
   "source": [
    "merge_script = generate_merge_script(src_path, dest_path)\n",
    "df_fact.createOrReplaceTempView('src')\n",
    "result = spark.sql(merge_script)\n",
    "print(result.select(\"num_affected_rows\").collect()[0])\n",
    "print(result.select(\"num_updated_rows\").collect()[0])\n",
    "print(result.select(\"num_deleted_rows\").collect()[0])\n",
    "print(result.select(\"num_inserted_rows\").collect()[0])\n"
   ]
  },
  {
   "cell_type": "code",
   "execution_count": 0,
   "metadata": {
    "application/vnd.databricks.v1+cell": {
     "cellMetadata": {
      "byteLimit": 2048000,
      "rowLimit": 10000
     },
     "inputWidgets": {},
     "nuid": "ff8effcb-12f1-4d2d-bc54-4dec6051cc0a",
     "showTitle": true,
     "tableResultSettingsMap": {},
     "title": "check"
    }
   },
   "outputs": [
    {
     "output_type": "stream",
     "name": "stdout",
     "output_type": "stream",
     "text": [
      "\n    MERGE INTO delta.`/mnt/dw01silver/Fact/FactProfitAndLoss` AS tar\n    USING src AS src\n    ON tar.ScenarioCode = src.ScenarioCode\n   AND tar.Month = src.Month\n   AND tar.Year = src.Year\n   AND tar.PnLTypeCode = src.PnLTypeCode\n   AND tar.BrandCode = src.BrandCode\n   AND tar.ClassOfTradeCode = src.ClassOfTradeCode\n   AND tar.CompanyCode = src.CompanyCode\n   AND tar.CustomerCode = src.CustomerCode\n   AND tar.CustomerGroup5Code = src.CustomerGroup5Code\n   AND tar.DistributionChannelCode = src.DistributionChannelCode\n   AND tar.DivisionCode = src.DivisionCode\n   AND tar.MaterialNumber = src.MaterialNumber\n   AND tar.ProductHierarchyCode = src.ProductHierarchyCode\n   AND tar.ProfitCenterDataCode = src.ProfitCenterDataCode\n   AND tar.SalesOrgCode = src.SalesOrgCode\n   AND tar.ProductHierarchyCodeLevel2 = src.ProductHierarchyCodeLevel2\n   AND tar.ProductHierarchyCodeLevel1 = src.ProductHierarchyCodeLevel1\n   AND tar.ICPCode = src.ICPCode\n   AND tar.CoProfitCenterCode = src.CoProfitCenterCode\n   AND tar.CurrencyKey = src.CurrencyKey\n   AND tar.ControllingAreaCode = src.ControllingAreaCode\n   AND tar.ProfitCenterCode = src.ProfitCenterCode\n   AND tar.ShipToCustomerCode = src.ShipToCustomerCode\n   AND tar.ShipToParentCustomerCode = src.ShipToParentCustomerCode\n   AND tar.TradingPartnerCode = src.TradingPartnerCode\n   AND tar.ProfitSupplyChainCode = src.ProfitSupplyChainCode\n   AND tar.ProfitCategoryCode = src.ProfitCategoryCode\n    WHEN MATCHED THEN\n      UPDATE SET\n        tar.BrandKey = src.BrandKey,\n       tar.ClassOfTradeKey = src.ClassOfTradeKey,\n       tar.CompanyKey = src.CompanyKey,\n       tar.CustomerKey = src.CustomerKey,\n       tar.CustomerGroup5Key = src.CustomerGroup5Key,\n       tar.DistributionChannelKey = src.DistributionChannelKey,\n       tar.DivisionKey = src.DivisionKey,\n       tar.MaterialKey = src.MaterialKey,\n       tar.ProductHierarchyKey = src.ProductHierarchyKey,\n       tar.ProfitCenterDataKey = src.ProfitCenterDataKey,\n       tar.CalDate = src.CalDate,\n       tar.NetSales = src.NetSales,\n       tar.ActualGrossProfit = src.ActualGrossProfit,\n       tar.NetProductContributionMargin = src.NetProductContributionMargin,\n       tar.OperatingProfitLoss = src.OperatingProfitLoss,\n       tar.EBITDA = src.EBITDA,\n       tar.NOPAT = src.NOPAT,\n       tar.GrossSales = src.GrossSales,\n       tar.StdGrossProfit = src.StdGrossProfit,\n       tar.CostOfSales1 = src.CostOfSales1,\n       tar.Commission = src.Commission,\n       tar.DistributionExpense = src.DistributionExpense,\n       tar.APMarketing = src.APMarketing,\n       tar.APTrade = src.APTrade,\n       tar.APSales = src.APSales,\n       tar.APBudSalesRebate = src.APBudSalesRebate,\n       tar.APReturn = src.APReturn,\n       tar.AP = src.AP,\n       tar.ProductContributionMargin = src.ProductContributionMargin,\n       tar.DepreciationAmortisation2 = src.DepreciationAmortisation2,\n       tar.Source = src.Source,\n       tar.SapDate = src.SapDate,\n        tar.IsActive = 1,\n        tar.ModifiedBy = 'spark',\n        tar.ModifiedDate = CURRENT_TIMESTAMP\n    WHEN NOT MATCHED THEN\n      INSERT (ScenarioCode, Month, Year, PnLTypeCode, BrandKey, BrandCode, ClassOfTradeKey, ClassOfTradeCode, CompanyKey, CompanyCode, CustomerKey, CustomerCode, CustomerGroup5Key, CustomerGroup5Code, DistributionChannelKey, DistributionChannelCode, DivisionKey, DivisionCode, MaterialKey, MaterialNumber, ProductHierarchyKey, ProductHierarchyCode, ProfitCenterDataKey, ProfitCenterDataCode, SalesOrgCode, ProductHierarchyCodeLevel2, ProductHierarchyCodeLevel1, ICPCode, CoProfitCenterCode, CurrencyKey, ControllingAreaCode, ProfitCenterCode, ShipToCustomerCode, ShipToParentCustomerCode, TradingPartnerCode, ProfitSupplyChainCode, ProfitCategoryCode, CalDate, NetSales, ActualGrossProfit, NetProductContributionMargin, OperatingProfitLoss, EBITDA, NOPAT, GrossSales, StdGrossProfit, CostOfSales1, Commission, DistributionExpense, APMarketing, APTrade, APSales, APBudSalesRebate, APReturn, AP, ProductContributionMargin, DepreciationAmortisation2, Source, SapDate\n        ,IsActive\n        ,CreatedBy\n        ,CreatedDate\n        ,ModifiedBy\n        ,ModifiedDate\n        )\n      VALUES (src.ScenarioCode, src.Month, src.Year, src.PnLTypeCode, src.BrandKey, src.BrandCode, src.ClassOfTradeKey, src.ClassOfTradeCode, src.CompanyKey, src.CompanyCode, src.CustomerKey, src.CustomerCode, src.CustomerGroup5Key, src.CustomerGroup5Code, src.DistributionChannelKey, src.DistributionChannelCode, src.DivisionKey, src.DivisionCode, src.MaterialKey, src.MaterialNumber, src.ProductHierarchyKey, src.ProductHierarchyCode, src.ProfitCenterDataKey, src.ProfitCenterDataCode, src.SalesOrgCode, src.ProductHierarchyCodeLevel2, src.ProductHierarchyCodeLevel1, src.ICPCode, src.CoProfitCenterCode, src.CurrencyKey, src.ControllingAreaCode, src.ProfitCenterCode, src.ShipToCustomerCode, src.ShipToParentCustomerCode, src.TradingPartnerCode, src.ProfitSupplyChainCode, src.ProfitCategoryCode, src.CalDate, src.NetSales, src.ActualGrossProfit, src.NetProductContributionMargin, src.OperatingProfitLoss, src.EBITDA, src.NOPAT, src.GrossSales, src.StdGrossProfit, src.CostOfSales1, src.Commission, src.DistributionExpense, src.APMarketing, src.APTrade, src.APSales, src.APBudSalesRebate, src.APReturn, src.AP, src.ProductContributionMargin, src.DepreciationAmortisation2, src.Source, src.SapDate\n        ,1\n        ,'spark'\n        ,CURRENT_TIMESTAMP\n        ,'spark'\n        ,CURRENT_TIMESTAMP\n        );\n    \n"
     ]
    }
   ],
   "source": [
    "print(merge_script)"
   ]
  },
  {
   "cell_type": "code",
   "execution_count": 0,
   "metadata": {
    "application/vnd.databricks.v1+cell": {
     "cellMetadata": {
      "byteLimit": 2048000,
      "implicitDf": true,
      "rowLimit": 10000
     },
     "inputWidgets": {},
     "nuid": "beb867e4-f29d-43b7-ba66-8fb9557856d5",
     "showTitle": false,
     "tableResultSettingsMap": {},
     "title": ""
    }
   },
   "outputs": [],
   "source": [
    "# %sql\n",
    "# SELECT DISTINCT * FROM delta.`/mnt/dw01silver/Fact/FactProfitAndLoss`\n",
    "# WHERE PnLTypeCode = 'Combine'"
   ]
  },
  {
   "cell_type": "code",
   "execution_count": 0,
   "metadata": {
    "application/vnd.databricks.v1+cell": {
     "cellMetadata": {
      "byteLimit": 2048000,
      "rowLimit": 10000
     },
     "inputWidgets": {},
     "nuid": "6b06ed31-cbf9-43f0-aae4-0be9c90192e4",
     "showTitle": false,
     "tableResultSettingsMap": {},
     "title": ""
    }
   },
   "outputs": [],
   "source": [
    "# spark.sql(f\"DESCRIBE HISTORY delta.`{dest_path}`\").display()"
   ]
  },
  {
   "cell_type": "code",
   "execution_count": 0,
   "metadata": {
    "application/vnd.databricks.v1+cell": {
     "cellMetadata": {
      "byteLimit": 2048000,
      "rowLimit": 10000
     },
     "inputWidgets": {},
     "nuid": "6a5ba634-a5f1-46f2-9b6b-96004b0e99ba",
     "showTitle": true,
     "tableResultSettingsMap": {},
     "title": "check"
    }
   },
   "outputs": [],
   "source": [
    "# src_path = \"/mnt/dw01bronze/Fact/pre_tx_FactPnLCombine\"\n",
    "# df = spark.read.format('parquet').load(src_path)\n",
    "# df.createOrReplaceTempView('your_table')"
   ]
  },
  {
   "cell_type": "code",
   "execution_count": 0,
   "metadata": {
    "application/vnd.databricks.v1+cell": {
     "cellMetadata": {
      "byteLimit": 2048000,
      "implicitDf": true,
      "rowLimit": 10000
     },
     "inputWidgets": {},
     "nuid": "82763fd0-d190-41b5-9a40-654392ca071b",
     "showTitle": true,
     "tableResultSettingsMap": {},
     "title": "check"
    }
   },
   "outputs": [],
   "source": [
    "# %sql\n",
    "# SELECT DISTINCT \n",
    "#     ScenarioCode,\n",
    "#     Month,\n",
    "#     Year,\n",
    "#     PnLTypeCode,\n",
    "#     BrandCode,\n",
    "#     ClassOfTradeCode,\n",
    "#     CompanyCode,\n",
    "#     CustomerCode,\n",
    "#     CustomerGroup5Code,\n",
    "#     DistributionChannelCode,\n",
    "#     DivisionCode,\n",
    "#     MaterialNumber,\n",
    "#     ProductHierarchyCode,\n",
    "#     ProfitCenterDataCode,\n",
    "#     SalesOrgCode,\n",
    "#     ProductHierarchyCodeLevel2,\n",
    "#     ProductHierarchyCodeLevel1,\n",
    "#     ICPCode,\n",
    "#     CoProfitCenterCode,\n",
    "#     CurrencyKey,\n",
    "#     ControllingAreaCode,\n",
    "#     ProfitCenterCode,\n",
    "#     ShipToCustomerCode,\n",
    "#     ShipToParentCustomerCode,\n",
    "#     TradingPartnerCode,\n",
    "#     ProfitSupplyChainCode,\n",
    "#     ProfitCategoryCode\n",
    "# FROM delta.`/mnt/dw01silver/Fact/FactProfitAndLoss`\n",
    "# WHERE PnLTypeCode = 'Combine'\n"
   ]
  }
 ],
 "metadata": {
  "application/vnd.databricks.v1+notebook": {
   "computePreferences": null,
   "dashboards": [],
   "environmentMetadata": {
    "base_environment": "",
    "client": "1"
   },
   "language": "python",
   "notebookMetadata": {
    "mostRecentlyExecutedCommandWithImplicitDF": {
     "commandId": -1,
     "dataframes": [
      "_sqldf"
     ]
    },
    "pythonIndentUnit": 4
   },
   "notebookName": "_P1-Load-fact-bronze-to-silver",
   "widgets": {
    "table_name": {
     "currentValue": "Z1FI3MP02",
     "nuid": "cad11cc2-4662-4e6c-a1f2-7c6e875022bb",
     "typedWidgetInfo": {
      "autoCreated": false,
      "defaultValue": "FactPnLCommercial",
      "label": null,
      "name": "table_name",
      "options": {
       "widgetDisplayType": "Text",
       "validationRegex": null
      },
      "parameterDataType": "String"
     },
     "widgetInfo": {
      "widgetType": "text",
      "defaultValue": "FactPnLCommercial",
      "label": null,
      "name": "table_name",
      "options": {
       "widgetType": "text",
       "autoCreated": null,
       "validationRegex": null
      }
     }
    }
   }
  },
  "language_info": {
   "name": "python"
  }
 },
 "nbformat": 4,
 "nbformat_minor": 0
}