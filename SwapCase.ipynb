{
 "cells": [
  {
   "cell_type": "code",
   "execution_count": 31,
   "metadata": {},
   "outputs": [],
   "source": [
    "def swap_case(s):\n",
    "    my_string = s\n",
    "    my_string_output = \"\"\n",
    "    for i in range(0,len(my_string)):\n",
    "        if my_string[i].lower() == my_string[i] == my_string[i].upper():\n",
    "            my_string_output = my_string_output + my_string[i]\n",
    "        elif my_string[i].lower() == my_string[i]:\n",
    "            my_string_output = my_string_output + my_string[i].upper()\n",
    "        elif my_string[i].upper() == my_string[i]:\n",
    "            my_string_output = my_string_output + my_string[i].lower()\n",
    "    return my_string_output"
   ]
  },
  {
   "cell_type": "code",
   "execution_count": 32,
   "metadata": {},
   "outputs": [
    {
     "name": "stdout",
     "output_type": "stream",
     "text": [
      "hACKERrANK.COM PRESENTS \"pYTHONIST 2\"\n"
     ]
    }
   ],
   "source": [
    "if __name__ == '__main__':\n",
    "    s = \"HackerRank.com presents \\\"Pythonist 2\\\"\"\n",
    "    result = swap_case(s)\n",
    "    print(result)"
   ]
  },
  {
   "cell_type": "code",
   "execution_count": 34,
   "metadata": {},
   "outputs": [
    {
     "name": "stdout",
     "output_type": "stream",
     "text": [
      "HackerRank.com presents \"Pythonist 2\"\n",
      "hACKERrANK.COM PRESENTS \"pYTHONIST 2\"\n"
     ]
    }
   ],
   "source": [
    "my_string = \"HackerRank.com presents \\\"Pythonist 2\\\"\"\n",
    "\n",
    "my_string_output = \"\"\n",
    "for i in range(0,len(my_string)):\n",
    "    if my_string[i].lower() == my_string[i] == my_string[i].upper():\n",
    "        my_string_output = my_string_output + my_string[i]\n",
    "    elif my_string[i].lower() == my_string[i]:\n",
    "        my_string_output = my_string_output + my_string[i].upper()\n",
    "    elif my_string[i].upper() == my_string[i]:\n",
    "        my_string_output = my_string_output + my_string[i].lower()\n",
    "print(my_string)\n",
    "print(my_string_output)\n"
   ]
  },
  {
   "cell_type": "code",
   "execution_count": 36,
   "metadata": {},
   "outputs": [
    {
     "name": "stdout",
     "output_type": "stream",
     "text": [
      "hACKERrANK.COM PRESENTS \"pYTHONIST 2\"\n"
     ]
    }
   ],
   "source": [
    "my_string = \"HackerRank.com presents \\\"Pythonist 2\\\"\"\n",
    "\n",
    "print(my_string.swapcase())\n"
   ]
  },
  {
   "cell_type": "code",
   "execution_count": 5,
   "metadata": {},
   "outputs": [
    {
     "name": "stdout",
     "output_type": "stream",
     "text": [
      "hACKERrANK.COM PRESENTS \"pYTHONIST 2\"\n"
     ]
    }
   ],
   "source": [
    "my_string = \"HackerRank.com presents \\\"Pythonist 2\\\"\"\n",
    "my_string_concat = \"\"\n",
    "for i in my_string:\n",
    "    my_string_concat += i.swapcase()\n",
    "print(my_string_concat)"
   ]
  }
 ],
 "metadata": {
  "kernelspec": {
   "display_name": "Python 3",
   "language": "python",
   "name": "python3"
  },
  "language_info": {
   "codemirror_mode": {
    "name": "ipython",
    "version": 3
   },
   "file_extension": ".py",
   "mimetype": "text/x-python",
   "name": "python",
   "nbconvert_exporter": "python",
   "pygments_lexer": "ipython3",
   "version": "3.11.4"
  }
 },
 "nbformat": 4,
 "nbformat_minor": 2
}
