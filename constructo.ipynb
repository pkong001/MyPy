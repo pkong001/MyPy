{
 "cells": [
  {
   "cell_type": "code",
   "execution_count": 76,
   "metadata": {},
   "outputs": [],
   "source": [
    "# Multiline string input\n",
    "input_columns = \"\"\"\n",
    "DocumentNumber\n",
    "PlantCode\n",
    "MaterialNumber\n",
    "AccountAssignment\n",
    "SoldToCustomerCode\n",
    "SalesEmployeeCode\n",
    "Doctor1\n",
    "Doctor2\n",
    "ShipToCustomerCode\n",
    "BillToCustomercode\n",
    "SalesOrderType\n",
    "StorageLocation\n",
    "\"\"\"\n",
    "\n",
    "key_columns_input = \"\"\"\n",
    "DocumentNumber\n",
    "PlantCode\n",
    "MaterialNumber\n",
    "\"\"\"\n",
    "table_name_input = \"DimCountry\"\n",
    "\n",
    "\n",
    "column_names = [line.strip() for line in input_columns.strip().split('\\n')]\n",
    "key_columns = [line.strip() for line in key_columns_input.strip().split('\\n')]\n",
    "\n",
    "table_name_origin = f'[' + table_name_input + ']'\n",
    "table_name_ssis = '[\" + @[System::PackageName] + \"]'"
   ]
  },
  {
   "cell_type": "code",
   "execution_count": 77,
   "metadata": {},
   "outputs": [
    {
     "name": "stdout",
     "output_type": "stream",
     "text": [
      "[\" + @[System::PackageName] + \"]\n"
     ]
    }
   ],
   "source": [
    "table_name = table_name_ssis\n",
    "print(table_name)"
   ]
  },
  {
   "cell_type": "code",
   "execution_count": null,
   "metadata": {},
   "outputs": [],
   "source": [
    "header = '___EDW___\\n'\n",
    "select_statement = 'SELECT\\n'\n",
    "select_statement += '[' + column_names[0] + ']\\n'\n",
    "for column in column_names[1:]:\n",
    "    select_statement += f', [{column}]\\n'\n",
    "select_statement += 'FROM [DBO].'+ table_name_ssis + ' WITH (NOLOCK)'\n",
    "print(header)\n",
    "print(select_statement)\n",
    "\n",
    "\n",
    "header = '\\n\\n___DIM___\\n'\n",
    "select_statement = 'SELECT\\n'\n",
    "select_statement += f'[' + column_names[0] + ']' + 'AS Destination' + column_names[0] +'\\n'\n",
    "for column in column_names[1:]:\n",
    "    select_statement += f', [{column}] AS Destination{column}\\n'\n",
    "select_statement += ', [IsActive] AS DestinationIsActive\\n'\n",
    "select_statement += 'FROM [dbo].'+ table_name_ssis + ' WITH (NOLOCK)'\n",
    "print(header)\n",
    "print(select_statement)\n",
    "\n",
    "header = '\\n\\n___UPDATE___\\n'\n",
    "update_statement = 'UPDATE\\n[dbo].[' + table_name_origin + ']\\nSET\\n'\n",
    "for column in column_names:\n",
    "    update_statement += f'[{column}] = ?,\\n'\n",
    "update_statement += \"[Source] = 'ST',\\n[ModifiedBy] = 'system',\\n[ModifiedDate] = GETDATE(),\\n[IsActive] = 1\\n\"\n",
    "update_statement += 'WHERE\\n'\n",
    "for key in key_columns:\n",
    "    update_statement += f'[{key}] = ?\\nAND '\n",
    "update_statement = update_statement.rstrip('AND ') # remove the last AND\n",
    "print(header)\n",
    "print(update_statement)\n",
    "\n",
    "header = '\\n\\n___DISABLE___\\n'\n",
    "disable_statement = 'UPDATE [dbo].' + table_name_origin\n",
    "disable_statement += '\\nSET IsActive = 0'\n",
    "disable_statement += '\\nWHERE'\n",
    "for key in key_columns:\n",
    "    disable_statement += f'[{key}] = ?\\nAND '\n",
    "disable_statement = disable_statement.rstrip('AND ')\n",
    "print(header)\n",
    "print(disable_statement)\n"
   ]
  },
  {
   "cell_type": "code",
   "execution_count": null,
   "metadata": {},
   "outputs": [],
   "source": []
  },
  {
   "cell_type": "code",
   "execution_count": 79,
   "metadata": {},
   "outputs": [
    {
     "name": "stdout",
     "output_type": "stream",
     "text": [
      "(ISNULL([DocumentNumber]) ? \"\" : [DocumentNumber])\n",
      "(ISNULL([PlantCode]) ? \"\" : [PlantCode])\n",
      "(ISNULL([MaterialNumber]) ? \"\" : [MaterialNumber])\n",
      "(ISNULL([AccountAssignment]) ? \"\" : [AccountAssignment])\n",
      "(ISNULL([SoldToCustomerCode]) ? \"\" : [SoldToCustomerCode])\n",
      "(ISNULL([SalesEmployeeCode]) ? \"\" : [SalesEmployeeCode])\n",
      "(ISNULL([Doctor1]) ? \"\" : [Doctor1])\n",
      "(ISNULL([Doctor2]) ? \"\" : [Doctor2])\n",
      "(ISNULL([ShipToCustomerCode]) ? \"\" : [ShipToCustomerCode])\n",
      "(ISNULL([BillToCustomercode]) ? \"\" : [BillToCustomercode])\n",
      "(ISNULL([SalesOrderType]) ? \"\" : [SalesOrderType])\n",
      "(ISNULL([StorageLocation]) ? \"\" : [StorageLocation])\n"
     ]
    }
   ],
   "source": [
    "def generate_isnull_expression(column_name):\n",
    "    return f\"(ISNULL([{column_name}]) ? \\\"\\\" : [{column_name}])\"\n",
    "\n",
    "# Split the input string into a list of column names\n",
    "column_names = [line.strip() for line in input_columns.strip().split('\\n')]\n",
    "\n",
    "# Generate and print the ISNULL expressions for each column name\n",
    "isnull_expressions = [generate_isnull_expression(column) for column in column_names]\n",
    "\n",
    "# Print the results\n",
    "for expression in isnull_expressions:\n",
    "    print(expression)\n"
   ]
  }
 ],
 "metadata": {
  "kernelspec": {
   "display_name": "Python 3",
   "language": "python",
   "name": "python3"
  },
  "language_info": {
   "codemirror_mode": {
    "name": "ipython",
    "version": 3
   },
   "file_extension": ".py",
   "mimetype": "text/x-python",
   "name": "python",
   "nbconvert_exporter": "python",
   "pygments_lexer": "ipython3",
   "version": "3.11.4"
  }
 },
 "nbformat": 4,
 "nbformat_minor": 2
}
