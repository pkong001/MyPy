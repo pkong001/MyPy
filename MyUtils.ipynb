{
 "cells": [
  {
   "cell_type": "code",
   "execution_count": 9,
   "metadata": {},
   "outputs": [
    {
     "ename": "ImportError",
     "evalue": "cannot import name 'fuckingtimeconverterf' from 'MyFuckingTimeConverter' (d:\\Men\\3_My_Python\\MyFuckingTimeConverter.py)",
     "output_type": "error",
     "traceback": [
      "\u001b[1;31m---------------------------------------------------------------------------\u001b[0m",
      "\u001b[1;31mImportError\u001b[0m                               Traceback (most recent call last)",
      "Cell \u001b[1;32mIn[9], line 1\u001b[0m\n\u001b[1;32m----> 1\u001b[0m \u001b[38;5;28;01mfrom\u001b[39;00m \u001b[38;5;21;01mMyFuckingTimeConverter\u001b[39;00m \u001b[38;5;28;01mimport\u001b[39;00m fuckingtimeconverterf\n\u001b[0;32m      3\u001b[0m fuckingtimeconverterf(\u001b[38;5;241m1735177023000\u001b[39m)\n",
      "\u001b[1;31mImportError\u001b[0m: cannot import name 'fuckingtimeconverterf' from 'MyFuckingTimeConverter' (d:\\Men\\3_My_Python\\MyFuckingTimeConverter.py)"
     ]
    }
   ],
   "source": [
    "from MyFuckingTimeConverter import fuckingtimeconverterf\n",
    "\n",
    "fuckingtimeconverterf(1735177023000)\n"
   ]
  }
 ],
 "metadata": {
  "kernelspec": {
   "display_name": "Python 3",
   "language": "python",
   "name": "python3"
  },
  "language_info": {
   "codemirror_mode": {
    "name": "ipython",
    "version": 3
   },
   "file_extension": ".py",
   "mimetype": "text/x-python",
   "name": "python",
   "nbconvert_exporter": "python",
   "pygments_lexer": "ipython3",
   "version": "3.11.4"
  }
 },
 "nbformat": 4,
 "nbformat_minor": 2
}
