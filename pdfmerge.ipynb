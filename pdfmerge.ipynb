{
 "cells": [
  {
   "cell_type": "code",
   "execution_count": 4,
   "metadata": {},
   "outputs": [],
   "source": [
    "import os\n",
    "from PyPDF2 import PdfMerger"
   ]
  },
  {
   "cell_type": "markdown",
   "metadata": {},
   "source": [
    "## Adjust parameter here"
   ]
  },
  {
   "cell_type": "code",
   "execution_count": 22,
   "metadata": {},
   "outputs": [],
   "source": [
    "folder_location = \"./files/bw_pdf/\"\n",
    "output_name = \"merged_document\""
   ]
  },
  {
   "cell_type": "code",
   "execution_count": 23,
   "metadata": {},
   "outputs": [
    {
     "data": {
      "text/plain": [
       "'./files/bw_pdf/merge_document.pdf'"
      ]
     },
     "execution_count": 23,
     "metadata": {},
     "output_type": "execute_result"
    }
   ],
   "source": [
    "\n",
    "name_list = os.listdir(folder_location)\n",
    "name_list_chosen =[i for i in name_list if (\".pdf\" in i)]\n",
    "path_list = [folder_location + i for i in name_list_chosen]\n",
    "\n",
    "# Define the paths to the uploaded PDF files\n",
    "pdf_files = path_list\n",
    "\n",
    "# Define output file path\n",
    "merged_pdf_path = folder_location + output_name + \".pdf\"\n",
    "\n",
    "# Merge PDFs\n",
    "merger = PdfMerger()\n",
    "for pdf in pdf_files:\n",
    "    merger.append(pdf)\n",
    "\n",
    "# Save the merged PDF\n",
    "merger.write(merged_pdf_path)\n",
    "merger.close()\n",
    "\n",
    "# Provide download link\n",
    "merged_pdf_path\n"
   ]
  }
 ],
 "metadata": {
  "kernelspec": {
   "display_name": "Python 3",
   "language": "python",
   "name": "python3"
  },
  "language_info": {
   "codemirror_mode": {
    "name": "ipython",
    "version": 3
   },
   "file_extension": ".py",
   "mimetype": "text/x-python",
   "name": "python",
   "nbconvert_exporter": "python",
   "pygments_lexer": "ipython3",
   "version": "3.11.4"
  }
 },
 "nbformat": 4,
 "nbformat_minor": 2
}
