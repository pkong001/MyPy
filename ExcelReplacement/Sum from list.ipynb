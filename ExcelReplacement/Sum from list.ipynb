{
 "cells": [
  {
   "cell_type": "code",
   "execution_count": 2,
   "metadata": {},
   "outputs": [],
   "source": [
    "text_list = \"\"\"\n",
    "1015\n",
    "716\n",
    "1473\n",
    "6493\n",
    "9\n",
    "1240\n",
    "6039\n",
    "670\n",
    "1094\n",
    "2\n",
    "4\n",
    "7\n",
    "1383\n",
    "1405\n",
    "969\n",
    "2\n",
    "9444\n",
    "9676\n",
    "1624\n",
    "7027\n",
    "2\n",
    "6873\n",
    "6216\n",
    "1291\n",
    "6665\n",
    "6484\n",
    "4\n",
    "6931\n",
    "1404\n",
    "10\n",
    "1164\n",
    "1379\n",
    "7442\n",
    "1242\n",
    "9652\n",
    "646\n",
    "1388\n",
    "1302\n",
    "6\n",
    "1665\n",
    "1288\n",
    "1111\n",
    "1263\n",
    "1414\n",
    "6912\n",
    "8159\n",
    "8782\n",
    "947\n",
    "6635\n",
    "6\n",
    "6909\n",
    "7166\n",
    "1161\n",
    "1281\n",
    "9348\n",
    "1191\n",
    "6607\n",
    "1574\n",
    "1434\n",
    "1044\n",
    "1420\n",
    "7586\n",
    "7016\n",
    "2\n",
    "6282\n",
    "2\n",
    "1559\n",
    "1578\n",
    "1252\n",
    "1333\n",
    "1061\n",
    "6257\n",
    "6164\n",
    "\"\"\""
   ]
  },
  {
   "cell_type": "code",
   "execution_count": 4,
   "metadata": {},
   "outputs": [
    {
     "data": {
      "text/plain": [
       "227802.0"
      ]
     },
     "execution_count": 4,
     "metadata": {},
     "output_type": "execute_result"
    }
   ],
   "source": [
    "def fx_product(text_list):\n",
    "    mentis_stg = [float(i) for i in text_list.split(\"\\n\") if len(i) > 0]\n",
    "    mentis_res = sum(mentis_stg)\n",
    "    return mentis_res\n",
    "\n",
    "fx_product(text_list)"
   ]
  }
 ],
 "metadata": {
  "kernelspec": {
   "display_name": "Python 3",
   "language": "python",
   "name": "python3"
  },
  "language_info": {
   "codemirror_mode": {
    "name": "ipython",
    "version": 3
   },
   "file_extension": ".py",
   "mimetype": "text/x-python",
   "name": "python",
   "nbconvert_exporter": "python",
   "pygments_lexer": "ipython3",
   "version": "3.11.4"
  }
 },
 "nbformat": 4,
 "nbformat_minor": 2
}
